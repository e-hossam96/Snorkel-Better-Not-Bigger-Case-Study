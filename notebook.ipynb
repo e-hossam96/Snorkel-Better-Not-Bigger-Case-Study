{
 "cells": [
  {
   "cell_type": "markdown",
   "id": "bad6d256-3682-4870-b7e3-98c623a71659",
   "metadata": {},
   "source": [
    "# Better not Bigger"
   ]
  },
  {
   "cell_type": "markdown",
   "id": "5eba57b6-c6e1-498a-807b-e4425bf55309",
   "metadata": {},
   "source": [
    "Case study from snorkel."
   ]
  },
  {
   "cell_type": "markdown",
   "id": "21c0c2e4-a511-489c-8f85-35132ab9b059",
   "metadata": {},
   "source": [
    "## Dataset"
   ]
  },
  {
   "cell_type": "markdown",
   "id": "0b131c0f-b26f-46db-aeaa-ee6b50136ba1",
   "metadata": {},
   "source": [
    "LEDGAR from [LEX GLUE](https://huggingface.co/datasets/lex_glue)"
   ]
  },
  {
   "cell_type": "markdown",
   "id": "640f18af-a329-4200-be48-175b3d270688",
   "metadata": {},
   "source": [
    "## Setup"
   ]
  },
  {
   "cell_type": "markdown",
   "id": "39b78f10-01e6-4fa0-ac87-65c1ec675504",
   "metadata": {},
   "source": [
    "## Reading Dataset"
   ]
  },
  {
   "cell_type": "code",
   "execution_count": 1,
   "id": "0ffeabab-6e2f-47e7-838d-a8cca849c640",
   "metadata": {},
   "outputs": [
    {
     "name": "stderr",
     "output_type": "stream",
     "text": [
      "Reusing dataset lex_glue (/root/.cache/huggingface/datasets/lex_glue/ledgar/1.0.0/c3c0bd7433b636dc39ae49a84dc401190c73156617efc415b04e9835a93a7043)\n"
     ]
    },
    {
     "data": {
      "application/vnd.jupyter.widget-view+json": {
       "model_id": "2c0f03e09b5540bfa1108e574aa21418",
       "version_major": 2,
       "version_minor": 0
      },
      "text/plain": [
       "  0%|          | 0/3 [00:00<?, ?it/s]"
      ]
     },
     "metadata": {},
     "output_type": "display_data"
    },
    {
     "data": {
      "text/plain": [
       "DatasetDict({\n",
       "    train: Dataset({\n",
       "        features: ['text', 'label'],\n",
       "        num_rows: 60000\n",
       "    })\n",
       "    test: Dataset({\n",
       "        features: ['text', 'label'],\n",
       "        num_rows: 10000\n",
       "    })\n",
       "    validation: Dataset({\n",
       "        features: ['text', 'label'],\n",
       "        num_rows: 10000\n",
       "    })\n",
       "})"
      ]
     },
     "execution_count": 1,
     "metadata": {},
     "output_type": "execute_result"
    }
   ],
   "source": [
    "from datasets import load_dataset\n",
    "\n",
    "ledgar = load_dataset('lex_glue', name='ledgar')\n",
    "\n",
    "ledgar"
   ]
  },
  {
   "cell_type": "code",
   "execution_count": 2,
   "id": "29eebd13-b1ce-491f-98ce-4a53695f0618",
   "metadata": {},
   "outputs": [
    {
     "name": "stdout",
     "output_type": "stream",
     "text": [
      "text Value(dtype='string', id=None)\n",
      "label ClassLabel(num_classes=100, names=['Adjustments', 'Agreements', 'Amendments', 'Anti-Corruption Laws', 'Applicable Laws', 'Approvals', 'Arbitration', 'Assignments', 'Assigns', 'Authority', 'Authorizations', 'Base Salary', 'Benefits', 'Binding Effects', 'Books', 'Brokers', 'Capitalization', 'Change In Control', 'Closings', 'Compliance With Laws', 'Confidentiality', 'Consent To Jurisdiction', 'Consents', 'Construction', 'Cooperation', 'Costs', 'Counterparts', 'Death', 'Defined Terms', 'Definitions', 'Disability', 'Disclosures', 'Duties', 'Effective Dates', 'Effectiveness', 'Employment', 'Enforceability', 'Enforcements', 'Entire Agreements', 'Erisa', 'Existence', 'Expenses', 'Fees', 'Financial Statements', 'Forfeitures', 'Further Assurances', 'General', 'Governing Laws', 'Headings', 'Indemnifications', 'Indemnity', 'Insurances', 'Integration', 'Intellectual Property', 'Interests', 'Interpretations', 'Jurisdictions', 'Liens', 'Litigations', 'Miscellaneous', 'Modifications', 'No Conflicts', 'No Defaults', 'No Waivers', 'Non-Disparagement', 'Notices', 'Organizations', 'Participations', 'Payments', 'Positions', 'Powers', 'Publicity', 'Qualifications', 'Records', 'Releases', 'Remedies', 'Representations', 'Sales', 'Sanctions', 'Severability', 'Solvency', 'Specific Performance', 'Submission To Jurisdiction', 'Subsidiaries', 'Successors', 'Survival', 'Tax Withholdings', 'Taxes', 'Terminations', 'Terms', 'Titles', 'Transactions With Affiliates', 'Use Of Proceeds', 'Vacations', 'Venues', 'Vesting', 'Waiver Of Jury Trials', 'Waivers', 'Warranties', 'Withholdings'], id=None)\n"
     ]
    }
   ],
   "source": [
    "for k, v in ledgar['train'].features.items():\n",
    "    print(k, v)"
   ]
  },
  {
   "cell_type": "code",
   "execution_count": 5,
   "id": "63d4a102-a10c-4079-aee1-04c9029e3392",
   "metadata": {},
   "outputs": [
    {
     "name": "stdout",
     "output_type": "stream",
     "text": [
      "Number of labels = 100\n"
     ]
    }
   ],
   "source": [
    "labels = ledgar['train'].features['label'].names\n",
    "\n",
    "print(f'Number of labels = {len(labels)}')"
   ]
  },
  {
   "cell_type": "code",
   "execution_count": 43,
   "id": "d292b108-b738-4b6f-a208-c8659f5ef1fd",
   "metadata": {},
   "outputs": [
    {
     "name": "stdout",
     "output_type": "stream",
     "text": [
      "No ERISA Event has occurred or is reasonably expected to occur that, when taken together with all other such ERISA Events for which liability is reasonably expected to occur, could reasonably be expected to result in a Material Adverse Effect. Neither Borrower nor any ERISA Affiliate maintains or contributes to or has any obligation to maintain or contribute to any Multiemployer Plan or Plan, nor otherwise has any liability under Title IV of ERISA.\n",
      "Erisa\n"
     ]
    }
   ],
   "source": [
    "example = ledgar['train'][1]\n",
    "\n",
    "print(example['text'])\n",
    "print(labels[example['label']])"
   ]
  },
  {
   "cell_type": "markdown",
   "id": "a8b26d2a-092b-490a-9aca-f6da3aee1d3e",
   "metadata": {},
   "source": [
    "## Language Generation"
   ]
  },
  {
   "cell_type": "code",
   "execution_count": 60,
   "id": "34b6ab91-e859-4d15-9985-70d3ed9990b1",
   "metadata": {},
   "outputs": [],
   "source": [
    "# prompt = f\"The possible labels are {labels}.\\nWhat is the label of the following legal provision?\\nProvision: {example['text']}\\nLabel: \""
   ]
  },
  {
   "cell_type": "code",
   "execution_count": 61,
   "id": "0920cdf2-00a1-47f6-9d05-19428cd5837e",
   "metadata": {},
   "outputs": [],
   "source": [
    "# print(prompt)"
   ]
  },
  {
   "cell_type": "code",
   "execution_count": 58,
   "id": "c8db3968-301a-4ac3-a299-c996afe8a34c",
   "metadata": {},
   "outputs": [],
   "source": [
    "# from transformers import pipeline, set_seed\n",
    "\n",
    "# generator = pipeline('text-generation', model='xlnet-base-cased', is_decoder=True)\n",
    "# set_seed(42)"
   ]
  },
  {
   "cell_type": "code",
   "execution_count": 59,
   "id": "fc76e416-8f62-4bdc-9949-fd37bc638d29",
   "metadata": {},
   "outputs": [],
   "source": [
    "# generated = generator(prompt, max_length=1050, num_return_sequences=5)"
   ]
  },
  {
   "cell_type": "code",
   "execution_count": 57,
   "id": "53b0445d-f70e-4d07-b636-58449cc44618",
   "metadata": {},
   "outputs": [
    {
     "data": {
      "application/vnd.jupyter.widget-view+json": {
       "model_id": "8fd87d03ee34461b99616ff71896b0f1",
       "version_major": 2,
       "version_minor": 0
      },
      "text/plain": [
       "Downloading:   0%|          | 0.00/1.13k [00:00<?, ?B/s]"
      ]
     },
     "metadata": {},
     "output_type": "display_data"
    },
    {
     "data": {
      "application/vnd.jupyter.widget-view+json": {
       "model_id": "32013c2df3034a03bce8ec687ef6dd2f",
       "version_major": 2,
       "version_minor": 0
      },
      "text/plain": [
       "Downloading:   0%|          | 0.00/1.52G [00:00<?, ?B/s]"
      ]
     },
     "metadata": {},
     "output_type": "display_data"
    },
    {
     "data": {
      "application/vnd.jupyter.widget-view+json": {
       "model_id": "a25c7570bee749479b39e160e373ef87",
       "version_major": 2,
       "version_minor": 0
      },
      "text/plain": [
       "Downloading:   0%|          | 0.00/26.0 [00:00<?, ?B/s]"
      ]
     },
     "metadata": {},
     "output_type": "display_data"
    },
    {
     "data": {
      "application/vnd.jupyter.widget-view+json": {
       "model_id": "65f56a29cde243d0a37aa0a43bbd2a60",
       "version_major": 2,
       "version_minor": 0
      },
      "text/plain": [
       "Downloading:   0%|          | 0.00/878k [00:00<?, ?B/s]"
      ]
     },
     "metadata": {},
     "output_type": "display_data"
    },
    {
     "data": {
      "application/vnd.jupyter.widget-view+json": {
       "model_id": "e2db26e3146a4e50950ff07ec49540a9",
       "version_major": 2,
       "version_minor": 0
      },
      "text/plain": [
       "Downloading:   0%|          | 0.00/446k [00:00<?, ?B/s]"
      ]
     },
     "metadata": {},
     "output_type": "display_data"
    },
    {
     "data": {
      "application/vnd.jupyter.widget-view+json": {
       "model_id": "6d6cba625fea44c094a39ea54af58443",
       "version_major": 2,
       "version_minor": 0
      },
      "text/plain": [
       "Downloading:   0%|          | 0.00/1.29M [00:00<?, ?B/s]"
      ]
     },
     "metadata": {},
     "output_type": "display_data"
    }
   ],
   "source": [
    "from transformers import pipeline\n",
    "\n",
    "classifier = pipeline(\"zero-shot-classification\",\n",
    "                      model=\"facebook/bart-large-mnli\")"
   ]
  },
  {
   "cell_type": "code",
   "execution_count": 64,
   "id": "5eb6be1c-9143-4b2f-a31c-65a747c20753",
   "metadata": {},
   "outputs": [],
   "source": [
    "label = classifier(example['text'], labels)['labels'][0]"
   ]
  },
  {
   "cell_type": "code",
   "execution_count": 65,
   "id": "eb61599f-acb8-41f8-81b7-d45a235aafed",
   "metadata": {},
   "outputs": [
    {
     "data": {
      "text/plain": [
       "61"
      ]
     },
     "execution_count": 65,
     "metadata": {},
     "output_type": "execute_result"
    }
   ],
   "source": [
    "labels.index(label)"
   ]
  }
 ],
 "metadata": {
  "kernelspec": {
   "display_name": "Python 3 (ipykernel)",
   "language": "python",
   "name": "python3"
  },
  "language_info": {
   "codemirror_mode": {
    "name": "ipython",
    "version": 3
   },
   "file_extension": ".py",
   "mimetype": "text/x-python",
   "name": "python",
   "nbconvert_exporter": "python",
   "pygments_lexer": "ipython3",
   "version": "3.9.13"
  }
 },
 "nbformat": 4,
 "nbformat_minor": 5
}
