{
 "cells": [
  {
   "cell_type": "markdown",
   "id": "bad6d256-3682-4870-b7e3-98c623a71659",
   "metadata": {},
   "source": [
    "# Better not Bigger"
   ]
  },
  {
   "cell_type": "markdown",
   "id": "5eba57b6-c6e1-498a-807b-e4425bf55309",
   "metadata": {},
   "source": [
    "Case study from snorkel."
   ]
  },
  {
   "cell_type": "markdown",
   "id": "21c0c2e4-a511-489c-8f85-35132ab9b059",
   "metadata": {},
   "source": [
    "## Dataset"
   ]
  },
  {
   "cell_type": "markdown",
   "id": "0b131c0f-b26f-46db-aeaa-ee6b50136ba1",
   "metadata": {},
   "source": [
    "For the sake of simplicity, we will use the spam classification dataset from Kaggle."
   ]
  },
  {
   "cell_type": "markdown",
   "id": "640f18af-a329-4200-be48-175b3d270688",
   "metadata": {},
   "source": [
    "## Setup"
   ]
  },
  {
   "cell_type": "code",
   "execution_count": 1,
   "id": "e966d7fb-d211-4c85-9934-f7284c08b262",
   "metadata": {},
   "outputs": [
    {
     "name": "stdout",
     "output_type": "stream",
     "text": [
      "Python 3.9.13\n",
      "\u001b[33mWARNING: Running pip as the 'root' user can result in broken permissions and conflicting behaviour with the system package manager. It is recommended to use a virtual environment instead: https://pip.pypa.io/warnings/venv\u001b[0m\u001b[33m\n",
      "\u001b[0m"
     ]
    }
   ],
   "source": [
    "!python --version\n",
    "!pip install transformers -q"
   ]
  },
  {
   "cell_type": "code",
   "execution_count": 3,
   "id": "00735652-62ec-4018-82b3-74003deb51e2",
   "metadata": {},
   "outputs": [
    {
     "name": "stdout",
     "output_type": "stream",
     "text": [
      "\u001b[33mWARNING: Running pip as the 'root' user can result in broken permissions and conflicting behaviour with the system package manager. It is recommended to use a virtual environment instead: https://pip.pypa.io/warnings/venv\u001b[0m\u001b[33m\n",
      "\u001b[0m"
     ]
    }
   ],
   "source": [
    "!pip install dataset -q"
   ]
  },
  {
   "cell_type": "markdown",
   "id": "39b78f10-01e6-4fa0-ac87-65c1ec675504",
   "metadata": {},
   "source": [
    "## Reading Dataset"
   ]
  },
  {
   "cell_type": "code",
   "execution_count": 4,
   "id": "ede9141b-58d4-43eb-b5b5-24df7426473d",
   "metadata": {},
   "outputs": [
    {
     "name": "stdout",
     "output_type": "stream",
     "text": [
      "<class 'pandas.core.frame.DataFrame'>\n",
      "RangeIndex: 5796 entries, 0 to 5795\n",
      "Data columns (total 3 columns):\n",
      " #   Column     Non-Null Count  Dtype \n",
      "---  ------     --------------  ----- \n",
      " 0   CATEGORY   5796 non-null   int64 \n",
      " 1   MESSAGE    5796 non-null   object\n",
      " 2   FILE_NAME  5796 non-null   object\n",
      "dtypes: int64(1), object(2)\n",
      "memory usage: 136.0+ KB\n",
      "None\n"
     ]
    },
    {
     "data": {
      "text/html": [
       "<div>\n",
       "<style scoped>\n",
       "    .dataframe tbody tr th:only-of-type {\n",
       "        vertical-align: middle;\n",
       "    }\n",
       "\n",
       "    .dataframe tbody tr th {\n",
       "        vertical-align: top;\n",
       "    }\n",
       "\n",
       "    .dataframe thead th {\n",
       "        text-align: right;\n",
       "    }\n",
       "</style>\n",
       "<table border=\"1\" class=\"dataframe\">\n",
       "  <thead>\n",
       "    <tr style=\"text-align: right;\">\n",
       "      <th></th>\n",
       "      <th>CATEGORY</th>\n",
       "      <th>MESSAGE</th>\n",
       "      <th>FILE_NAME</th>\n",
       "    </tr>\n",
       "  </thead>\n",
       "  <tbody>\n",
       "    <tr>\n",
       "      <th>2469</th>\n",
       "      <td>0</td>\n",
       "      <td>Hindus mourn 'monkey god'\\n\\n\\n\\n\\n\\nBy Omer F...</td>\n",
       "      <td>00421.805fdd426ce515374b9e0b42a83a4042</td>\n",
       "    </tr>\n",
       "    <tr>\n",
       "      <th>5423</th>\n",
       "      <td>0</td>\n",
       "      <td>hm, looks good:\\n\\nhttp://books.slashdot.org/a...</td>\n",
       "      <td>00031.7caef7fe7af2114d0e4bf6aa0faf3a03</td>\n",
       "    </tr>\n",
       "    <tr>\n",
       "      <th>668</th>\n",
       "      <td>1</td>\n",
       "      <td>This is a multi-part message in MIME format.\\n...</td>\n",
       "      <td>00325.7e5ac4e91fba8111cce0e8dcc721912c</td>\n",
       "    </tr>\n",
       "    <tr>\n",
       "      <th>3940</th>\n",
       "      <td>0</td>\n",
       "      <td>On Wed, Feb 06, 2002 at 04:14:27PM +0100, Matt...</td>\n",
       "      <td>01098.f1aee47bcb53f9e9810bc45602904ecb</td>\n",
       "    </tr>\n",
       "    <tr>\n",
       "      <th>5265</th>\n",
       "      <td>0</td>\n",
       "      <td>This MSDN mail thing reminds me of how I've do...</td>\n",
       "      <td>01307.abdc5c227ec610efe718e993567eebc2</td>\n",
       "    </tr>\n",
       "    <tr>\n",
       "      <th>2207</th>\n",
       "      <td>0</td>\n",
       "      <td>\\n\\nBTW:  I remember messing about with such t...</td>\n",
       "      <td>01173.30be73e4da024638bfbdf5afc05b438f</td>\n",
       "    </tr>\n",
       "    <tr>\n",
       "      <th>3037</th>\n",
       "      <td>0</td>\n",
       "      <td>CDale wrote:\\n\\n&gt; \\n\\n&gt; I was wondering if any...</td>\n",
       "      <td>00617.5433c6be9644f6d773afef39392cb24c</td>\n",
       "    </tr>\n",
       "    <tr>\n",
       "      <th>2429</th>\n",
       "      <td>0</td>\n",
       "      <td>Gianni Ponzi wrote:\\n\\n&gt; I have a prob when tr...</td>\n",
       "      <td>02498.09835f512f156da210efb99fcc523e21</td>\n",
       "    </tr>\n",
       "    <tr>\n",
       "      <th>1720</th>\n",
       "      <td>1</td>\n",
       "      <td>&lt;html&gt;\\n\\n\\n\\n&lt;body&gt;\\n\\n\\n\\n&lt;font size=\"2\" PTS...</td>\n",
       "      <td>00454.ca6a81a702d62c23bc184a37a1cdb926</td>\n",
       "    </tr>\n",
       "    <tr>\n",
       "      <th>3536</th>\n",
       "      <td>0</td>\n",
       "      <td>\\n\\nOn Tue, 10 Sep 2002 01:20:56 PDT,\\n\\n\\tJ C...</td>\n",
       "      <td>00990.ee34876c3873d8e6197432ad9c558429</td>\n",
       "    </tr>\n",
       "  </tbody>\n",
       "</table>\n",
       "</div>"
      ],
      "text/plain": [
       "      CATEGORY                                            MESSAGE  \\\n",
       "2469         0  Hindus mourn 'monkey god'\\n\\n\\n\\n\\n\\nBy Omer F...   \n",
       "5423         0  hm, looks good:\\n\\nhttp://books.slashdot.org/a...   \n",
       "668          1  This is a multi-part message in MIME format.\\n...   \n",
       "3940         0  On Wed, Feb 06, 2002 at 04:14:27PM +0100, Matt...   \n",
       "5265         0  This MSDN mail thing reminds me of how I've do...   \n",
       "2207         0  \\n\\nBTW:  I remember messing about with such t...   \n",
       "3037         0  CDale wrote:\\n\\n> \\n\\n> I was wondering if any...   \n",
       "2429         0  Gianni Ponzi wrote:\\n\\n> I have a prob when tr...   \n",
       "1720         1  <html>\\n\\n\\n\\n<body>\\n\\n\\n\\n<font size=\"2\" PTS...   \n",
       "3536         0  \\n\\nOn Tue, 10 Sep 2002 01:20:56 PDT,\\n\\n\\tJ C...   \n",
       "\n",
       "                                   FILE_NAME  \n",
       "2469  00421.805fdd426ce515374b9e0b42a83a4042  \n",
       "5423  00031.7caef7fe7af2114d0e4bf6aa0faf3a03  \n",
       "668   00325.7e5ac4e91fba8111cce0e8dcc721912c  \n",
       "3940  01098.f1aee47bcb53f9e9810bc45602904ecb  \n",
       "5265  01307.abdc5c227ec610efe718e993567eebc2  \n",
       "2207  01173.30be73e4da024638bfbdf5afc05b438f  \n",
       "3037  00617.5433c6be9644f6d773afef39392cb24c  \n",
       "2429  02498.09835f512f156da210efb99fcc523e21  \n",
       "1720  00454.ca6a81a702d62c23bc184a37a1cdb926  \n",
       "3536  00990.ee34876c3873d8e6197432ad9c558429  "
      ]
     },
     "execution_count": 4,
     "metadata": {},
     "output_type": "execute_result"
    }
   ],
   "source": [
    "import pandas as pd\n",
    "\n",
    "spam = pd.read_csv('./spam_email_raw_text.csv')\n",
    "\n",
    "print(spam.info())\n",
    "\n",
    "spam.sample(10)"
   ]
  },
  {
   "cell_type": "code",
   "execution_count": 6,
   "id": "86abe08b-39d5-48d2-8007-e6a315f1fc7c",
   "metadata": {},
   "outputs": [
    {
     "name": "stdout",
     "output_type": "stream",
     "text": [
      "Dear Homeowner,\n",
      "\n",
      " \n",
      "\n",
      "Interest Rates are at their lowest point in 40 years!\n",
      "\n",
      "\n",
      "\n",
      "We help you find the best rate for your situation by\n",
      "\n",
      "matching your needs with hundreds of lenders!\n",
      "\n",
      "\n",
      "\n",
      "Home Improvement, Refinance, Second Mortgage,\n",
      "\n",
      "Home Equity Loans, and More! Even with less than\n",
      "\n",
      "perfect credit!\n",
      "\n",
      "\n",
      "\n",
      "This service is 100% FREE to home owners and new\n",
      "\n",
      "home buyers without any obligation. \n",
      "\n",
      "\n",
      "\n",
      "Just fill out a quick, simple form and jump-start\n",
      "\n",
      "your future plans today!\n",
      "\n",
      "\n",
      "\n",
      "\n",
      "\n",
      "Visit http://61.145.116.186/user0201/index.asp?Afft=QM10\n",
      "\n",
      "\n",
      "\n",
      "\n",
      "\n",
      "\n",
      "\n",
      "\n",
      "\n",
      "\n",
      "\n",
      "\n",
      "\n",
      "To unsubscribe, please visit:\n",
      "\n",
      "\n",
      "\n",
      "http://61.145.116.186/light/watch.asp\n",
      "\n",
      "\n",
      "\n",
      "\n",
      "\n"
     ]
    },
    {
     "data": {
      "text/plain": [
       "'Dear Homeowner,\\n\\n \\n\\nInterest Rates are at their lowest point in 40 years!\\n\\n\\n\\nWe help you find the best rate for your situation by\\n\\nmatching your needs with hundreds of lenders!\\n\\n\\n\\nHome Improvement, Refinance, Second Mortgage,\\n\\nHome Equity Loans, and More! Even with less than\\n\\nperfect credit!\\n\\n\\n\\nThis service is 100% FREE to home owners and new\\n\\nhome buyers without any obligation. \\n\\n\\n\\nJust fill out a quick, simple form and jump-start\\n\\nyour future plans today!\\n\\n\\n\\n\\n\\nVisit http://61.145.116.186/user0201/index.asp?Afft=QM10\\n\\n\\n\\n\\n\\n\\n\\n\\n\\n\\n\\n\\n\\nTo unsubscribe, please visit:\\n\\n\\n\\nhttp://61.145.116.186/light/watch.asp\\n\\n\\n\\n\\n'"
      ]
     },
     "execution_count": 6,
     "metadata": {},
     "output_type": "execute_result"
    }
   ],
   "source": [
    "example_text = spam['MESSAGE'][0]\n",
    "\n",
    "print(example_text)\n",
    "\n",
    "example_text"
   ]
  },
  {
   "cell_type": "code",
   "execution_count": 12,
   "id": "775222e6-17d2-48aa-b3bc-00e82995e950",
   "metadata": {},
   "outputs": [
    {
     "data": {
      "text/html": [
       "<div>\n",
       "<style scoped>\n",
       "    .dataframe tbody tr th:only-of-type {\n",
       "        vertical-align: middle;\n",
       "    }\n",
       "\n",
       "    .dataframe tbody tr th {\n",
       "        vertical-align: top;\n",
       "    }\n",
       "\n",
       "    .dataframe thead th {\n",
       "        text-align: right;\n",
       "    }\n",
       "</style>\n",
       "<table border=\"1\" class=\"dataframe\">\n",
       "  <thead>\n",
       "    <tr style=\"text-align: right;\">\n",
       "      <th></th>\n",
       "      <th>CATEGORY</th>\n",
       "      <th>MESSAGE</th>\n",
       "    </tr>\n",
       "  </thead>\n",
       "  <tbody>\n",
       "    <tr>\n",
       "      <th>0</th>\n",
       "      <td>1</td>\n",
       "      <td>Dear Homeowner,\\n\\n \\n\\nInterest Rates are at ...</td>\n",
       "    </tr>\n",
       "    <tr>\n",
       "      <th>1</th>\n",
       "      <td>1</td>\n",
       "      <td>ATTENTION: This is a MUST for ALL Computer Use...</td>\n",
       "    </tr>\n",
       "    <tr>\n",
       "      <th>2</th>\n",
       "      <td>1</td>\n",
       "      <td>This is a multi-part message in MIME format.\\n...</td>\n",
       "    </tr>\n",
       "    <tr>\n",
       "      <th>3</th>\n",
       "      <td>1</td>\n",
       "      <td>IMPORTANT INFORMATION:\\n\\n\\n\\nThe new domain n...</td>\n",
       "    </tr>\n",
       "    <tr>\n",
       "      <th>4</th>\n",
       "      <td>1</td>\n",
       "      <td>This is the bottom line.  If you can GIVE AWAY...</td>\n",
       "    </tr>\n",
       "  </tbody>\n",
       "</table>\n",
       "</div>"
      ],
      "text/plain": [
       "   CATEGORY                                            MESSAGE\n",
       "0         1  Dear Homeowner,\\n\\n \\n\\nInterest Rates are at ...\n",
       "1         1  ATTENTION: This is a MUST for ALL Computer Use...\n",
       "2         1  This is a multi-part message in MIME format.\\n...\n",
       "3         1  IMPORTANT INFORMATION:\\n\\n\\n\\nThe new domain n...\n",
       "4         1  This is the bottom line.  If you can GIVE AWAY..."
      ]
     },
     "execution_count": 12,
     "metadata": {},
     "output_type": "execute_result"
    }
   ],
   "source": [
    "spam.drop(columns=['FILE_NAME'], inplace=True)\n",
    "spam.head()"
   ]
  },
  {
   "cell_type": "markdown",
   "id": "e2e8c75b-15d9-4b16-ace4-c0f9907cfa6c",
   "metadata": {},
   "source": [
    "## BLOOM Warm Start"
   ]
  },
  {
   "cell_type": "code",
   "execution_count": null,
   "id": "d7f88aa1-806c-4aa6-8147-6bab8e5da687",
   "metadata": {},
   "outputs": [],
   "source": []
  }
 ],
 "metadata": {
  "kernelspec": {
   "display_name": "Python 3 (ipykernel)",
   "language": "python",
   "name": "python3"
  },
  "language_info": {
   "codemirror_mode": {
    "name": "ipython",
    "version": 3
   },
   "file_extension": ".py",
   "mimetype": "text/x-python",
   "name": "python",
   "nbconvert_exporter": "python",
   "pygments_lexer": "ipython3",
   "version": "3.9.13"
  }
 },
 "nbformat": 4,
 "nbformat_minor": 5
}
