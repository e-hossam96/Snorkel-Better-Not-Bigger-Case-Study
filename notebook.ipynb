{
 "cells": [
  {
   "cell_type": "markdown",
   "id": "bad6d256-3682-4870-b7e3-98c623a71659",
   "metadata": {},
   "source": [
    "# Better not Bigger"
   ]
  },
  {
   "cell_type": "markdown",
   "id": "5eba57b6-c6e1-498a-807b-e4425bf55309",
   "metadata": {},
   "source": [
    "Case study from snorkel."
   ]
  },
  {
   "cell_type": "markdown",
   "id": "21c0c2e4-a511-489c-8f85-35132ab9b059",
   "metadata": {},
   "source": [
    "## Dataset"
   ]
  },
  {
   "cell_type": "markdown",
   "id": "0b131c0f-b26f-46db-aeaa-ee6b50136ba1",
   "metadata": {},
   "source": [
    "IMDb dataset from Hugging Face [datasets](https://huggingface.co/datasets/imdb)"
   ]
  },
  {
   "cell_type": "markdown",
   "id": "640f18af-a329-4200-be48-175b3d270688",
   "metadata": {},
   "source": [
    "## Setup"
   ]
  },
  {
   "cell_type": "code",
   "execution_count": 1,
   "id": "93690a10-64dd-463f-8f49-ae476156f47a",
   "metadata": {},
   "outputs": [
    {
     "name": "stdout",
     "output_type": "stream",
     "text": [
      "\u001b[33mWARNING: Running pip as the 'root' user can result in broken permissions and conflicting behaviour with the system package manager. It is recommended to use a virtual environment instead: https://pip.pypa.io/warnings/venv\u001b[0m\u001b[33m\n",
      "\u001b[0m"
     ]
    }
   ],
   "source": [
    "!pip install snorkel transformers datasets -q"
   ]
  },
  {
   "cell_type": "markdown",
   "id": "39b78f10-01e6-4fa0-ac87-65c1ec675504",
   "metadata": {},
   "source": [
    "## Reading Dataset"
   ]
  },
  {
   "cell_type": "markdown",
   "id": "4c11d9fe-a2bb-4949-ab0f-b4f4fa8d740e",
   "metadata": {},
   "source": [
    "### Loading saved data"
   ]
  },
  {
   "cell_type": "code",
   "execution_count": 2,
   "id": "2b233952-255a-47e2-b9cd-8bdb7873ccec",
   "metadata": {},
   "outputs": [],
   "source": [
    "import glob\n",
    "import pandas as pd\n",
    "import numpy as np\n",
    "\n",
    "import datasets\n",
    "from datasets import concatenate_datasets, load_dataset, Dataset\n",
    "\n",
    "datasets.logging.set_verbosity_error()"
   ]
  },
  {
   "cell_type": "code",
   "execution_count": 3,
   "id": "72f58513-727d-4f70-8c8c-b5ec533cb94b",
   "metadata": {},
   "outputs": [],
   "source": [
    "zero_shot_models = [\"facebook/bart-large-mnli\", \n",
    "                    \"joeddav/xlm-roberta-large-xnli\", \n",
    "                    \"MoritzLaurer/mDeBERTa-v3-base-mnli-xnli\", \n",
    "                    \"BaptisteDoyen/camembert-base-xnli\"]"
   ]
  },
  {
   "cell_type": "code",
   "execution_count": 4,
   "id": "3eb22c8f-cf3f-496f-af7f-e94f6f24e026",
   "metadata": {},
   "outputs": [],
   "source": [
    "train_dfs = []\n",
    "valid_dfs = []\n",
    "for model in zero_shot_models:\n",
    "\n",
    "    train_dfs.append(load_dataset('json', \n",
    "                                  data_files=f'imdb_data/'\n",
    "                                  f'{model}/train.json', \n",
    "                                  split='train').to_pandas())\n",
    "    valid_dfs.append(load_dataset('json', \n",
    "                                  data_files=f'imdb_data/'\n",
    "                                  f'{model}/test.json', \n",
    "                                  split='train').to_pandas())"
   ]
  },
  {
   "cell_type": "code",
   "execution_count": 5,
   "id": "809c3fac-ac34-4be7-be79-247e6eee0661",
   "metadata": {},
   "outputs": [],
   "source": [
    "train_ds = train_dfs[0].copy()\n",
    "\n",
    "for df in train_dfs[1:]:\n",
    "    train_ds = train_ds.merge(right=df, on=['text', 'label'])\n",
    "\n",
    "valid_ds = valid_dfs[0].copy()\n",
    "\n",
    "for df in valid_dfs[1:]:\n",
    "    valid_ds = valid_ds.merge(right=df, on=['text', 'label'])"
   ]
  },
  {
   "cell_type": "code",
   "execution_count": 6,
   "id": "fc6a19b6-a894-4fdc-be58-72ff77aa85bd",
   "metadata": {},
   "outputs": [
    {
     "data": {
      "text/html": [
       "<div>\n",
       "<style scoped>\n",
       "    .dataframe tbody tr th:only-of-type {\n",
       "        vertical-align: middle;\n",
       "    }\n",
       "\n",
       "    .dataframe tbody tr th {\n",
       "        vertical-align: top;\n",
       "    }\n",
       "\n",
       "    .dataframe thead th {\n",
       "        text-align: right;\n",
       "    }\n",
       "</style>\n",
       "<table border=\"1\" class=\"dataframe\">\n",
       "  <thead>\n",
       "    <tr style=\"text-align: right;\">\n",
       "      <th></th>\n",
       "      <th>text</th>\n",
       "      <th>label</th>\n",
       "      <th>facebook/bart-large-mnli</th>\n",
       "      <th>joeddav/xlm-roberta-large-xnli</th>\n",
       "      <th>MoritzLaurer/mDeBERTa-v3-base-mnli-xnli</th>\n",
       "      <th>BaptisteDoyen/camembert-base-xnli</th>\n",
       "    </tr>\n",
       "  </thead>\n",
       "  <tbody>\n",
       "    <tr>\n",
       "      <th>0</th>\n",
       "      <td>There is no relation at all between Fortier an...</td>\n",
       "      <td>1</td>\n",
       "      <td>1</td>\n",
       "      <td>1</td>\n",
       "      <td>1</td>\n",
       "      <td>1</td>\n",
       "    </tr>\n",
       "    <tr>\n",
       "      <th>1</th>\n",
       "      <td>This movie is a great. The plot is very true t...</td>\n",
       "      <td>1</td>\n",
       "      <td>1</td>\n",
       "      <td>1</td>\n",
       "      <td>1</td>\n",
       "      <td>0</td>\n",
       "    </tr>\n",
       "    <tr>\n",
       "      <th>2</th>\n",
       "      <td>George P. Cosmatos' \"Rambo: First Blood Part I...</td>\n",
       "      <td>0</td>\n",
       "      <td>1</td>\n",
       "      <td>1</td>\n",
       "      <td>1</td>\n",
       "      <td>1</td>\n",
       "    </tr>\n",
       "    <tr>\n",
       "      <th>3</th>\n",
       "      <td>In the process of trying to establish the audi...</td>\n",
       "      <td>1</td>\n",
       "      <td>1</td>\n",
       "      <td>1</td>\n",
       "      <td>0</td>\n",
       "      <td>0</td>\n",
       "    </tr>\n",
       "    <tr>\n",
       "      <th>4</th>\n",
       "      <td>Yeh, I know -- you're quivering with excitemen...</td>\n",
       "      <td>0</td>\n",
       "      <td>1</td>\n",
       "      <td>1</td>\n",
       "      <td>0</td>\n",
       "      <td>1</td>\n",
       "    </tr>\n",
       "  </tbody>\n",
       "</table>\n",
       "</div>"
      ],
      "text/plain": [
       "                                                text  label  \\\n",
       "0  There is no relation at all between Fortier an...      1   \n",
       "1  This movie is a great. The plot is very true t...      1   \n",
       "2  George P. Cosmatos' \"Rambo: First Blood Part I...      0   \n",
       "3  In the process of trying to establish the audi...      1   \n",
       "4  Yeh, I know -- you're quivering with excitemen...      0   \n",
       "\n",
       "   facebook/bart-large-mnli  joeddav/xlm-roberta-large-xnli  \\\n",
       "0                         1                               1   \n",
       "1                         1                               1   \n",
       "2                         1                               1   \n",
       "3                         1                               1   \n",
       "4                         1                               1   \n",
       "\n",
       "   MoritzLaurer/mDeBERTa-v3-base-mnli-xnli  BaptisteDoyen/camembert-base-xnli  \n",
       "0                                        1                                  1  \n",
       "1                                        1                                  0  \n",
       "2                                        1                                  1  \n",
       "3                                        0                                  0  \n",
       "4                                        0                                  1  "
      ]
     },
     "execution_count": 6,
     "metadata": {},
     "output_type": "execute_result"
    }
   ],
   "source": [
    "train_ds.head()"
   ]
  },
  {
   "cell_type": "code",
   "execution_count": 7,
   "id": "29a65d26-539d-4bce-9a5b-1947ae0d7f52",
   "metadata": {},
   "outputs": [
    {
     "name": "stdout",
     "output_type": "stream",
     "text": [
      "<class 'pandas.core.frame.DataFrame'>\n",
      "Int64Index: 26544 entries, 0 to 26543\n",
      "Data columns (total 6 columns):\n",
      " #   Column                                   Non-Null Count  Dtype \n",
      "---  ------                                   --------------  ----- \n",
      " 0   text                                     26544 non-null  object\n",
      " 1   label                                    26544 non-null  int64 \n",
      " 2   facebook/bart-large-mnli                 26544 non-null  int64 \n",
      " 3   joeddav/xlm-roberta-large-xnli           26544 non-null  int64 \n",
      " 4   MoritzLaurer/mDeBERTa-v3-base-mnli-xnli  26544 non-null  int64 \n",
      " 5   BaptisteDoyen/camembert-base-xnli        26544 non-null  int64 \n",
      "dtypes: int64(5), object(1)\n",
      "memory usage: 1.4+ MB\n"
     ]
    }
   ],
   "source": [
    "train_ds.info()"
   ]
  },
  {
   "cell_type": "code",
   "execution_count": 8,
   "id": "c4745798-2d85-4a02-9887-47cfe92e0349",
   "metadata": {},
   "outputs": [
    {
     "data": {
      "text/html": [
       "<div>\n",
       "<style scoped>\n",
       "    .dataframe tbody tr th:only-of-type {\n",
       "        vertical-align: middle;\n",
       "    }\n",
       "\n",
       "    .dataframe tbody tr th {\n",
       "        vertical-align: top;\n",
       "    }\n",
       "\n",
       "    .dataframe thead th {\n",
       "        text-align: right;\n",
       "    }\n",
       "</style>\n",
       "<table border=\"1\" class=\"dataframe\">\n",
       "  <thead>\n",
       "    <tr style=\"text-align: right;\">\n",
       "      <th></th>\n",
       "      <th>text</th>\n",
       "      <th>label</th>\n",
       "      <th>facebook/bart-large-mnli</th>\n",
       "      <th>joeddav/xlm-roberta-large-xnli</th>\n",
       "      <th>MoritzLaurer/mDeBERTa-v3-base-mnli-xnli</th>\n",
       "      <th>BaptisteDoyen/camembert-base-xnli</th>\n",
       "    </tr>\n",
       "  </thead>\n",
       "  <tbody>\n",
       "    <tr>\n",
       "      <th>0</th>\n",
       "      <td>&lt;br /&gt;&lt;br /&gt;When I unsuspectedly rented A Thou...</td>\n",
       "      <td>1</td>\n",
       "      <td>1</td>\n",
       "      <td>1</td>\n",
       "      <td>0</td>\n",
       "      <td>1</td>\n",
       "    </tr>\n",
       "    <tr>\n",
       "      <th>1</th>\n",
       "      <td>This is the latest entry in the long series of...</td>\n",
       "      <td>1</td>\n",
       "      <td>1</td>\n",
       "      <td>1</td>\n",
       "      <td>0</td>\n",
       "      <td>1</td>\n",
       "    </tr>\n",
       "    <tr>\n",
       "      <th>2</th>\n",
       "      <td>This movie was so frustrating. Everything seem...</td>\n",
       "      <td>0</td>\n",
       "      <td>1</td>\n",
       "      <td>1</td>\n",
       "      <td>0</td>\n",
       "      <td>1</td>\n",
       "    </tr>\n",
       "    <tr>\n",
       "      <th>3</th>\n",
       "      <td>I was truly and wonderfully surprised at \"O' B...</td>\n",
       "      <td>1</td>\n",
       "      <td>1</td>\n",
       "      <td>1</td>\n",
       "      <td>1</td>\n",
       "      <td>1</td>\n",
       "    </tr>\n",
       "    <tr>\n",
       "      <th>4</th>\n",
       "      <td>This movie spends most of its time preaching t...</td>\n",
       "      <td>0</td>\n",
       "      <td>1</td>\n",
       "      <td>1</td>\n",
       "      <td>0</td>\n",
       "      <td>1</td>\n",
       "    </tr>\n",
       "  </tbody>\n",
       "</table>\n",
       "</div>"
      ],
      "text/plain": [
       "                                                text  label  \\\n",
       "0  <br /><br />When I unsuspectedly rented A Thou...      1   \n",
       "1  This is the latest entry in the long series of...      1   \n",
       "2  This movie was so frustrating. Everything seem...      0   \n",
       "3  I was truly and wonderfully surprised at \"O' B...      1   \n",
       "4  This movie spends most of its time preaching t...      0   \n",
       "\n",
       "   facebook/bart-large-mnli  joeddav/xlm-roberta-large-xnli  \\\n",
       "0                         1                               1   \n",
       "1                         1                               1   \n",
       "2                         1                               1   \n",
       "3                         1                               1   \n",
       "4                         1                               1   \n",
       "\n",
       "   MoritzLaurer/mDeBERTa-v3-base-mnli-xnli  BaptisteDoyen/camembert-base-xnli  \n",
       "0                                        0                                  1  \n",
       "1                                        0                                  1  \n",
       "2                                        0                                  1  \n",
       "3                                        1                                  1  \n",
       "4                                        0                                  1  "
      ]
     },
     "execution_count": 8,
     "metadata": {},
     "output_type": "execute_result"
    }
   ],
   "source": [
    "valid_ds.head()"
   ]
  },
  {
   "cell_type": "code",
   "execution_count": 9,
   "id": "dea7274d-ffff-4ea4-baa7-9fdd0c1d62f5",
   "metadata": {},
   "outputs": [
    {
     "name": "stdout",
     "output_type": "stream",
     "text": [
      "<class 'pandas.core.frame.DataFrame'>\n",
      "Int64Index: 28710 entries, 0 to 28709\n",
      "Data columns (total 6 columns):\n",
      " #   Column                                   Non-Null Count  Dtype \n",
      "---  ------                                   --------------  ----- \n",
      " 0   text                                     28710 non-null  object\n",
      " 1   label                                    28710 non-null  int64 \n",
      " 2   facebook/bart-large-mnli                 28710 non-null  int64 \n",
      " 3   joeddav/xlm-roberta-large-xnli           28710 non-null  int64 \n",
      " 4   MoritzLaurer/mDeBERTa-v3-base-mnli-xnli  28710 non-null  int64 \n",
      " 5   BaptisteDoyen/camembert-base-xnli        28710 non-null  int64 \n",
      "dtypes: int64(5), object(1)\n",
      "memory usage: 1.5+ MB\n"
     ]
    }
   ],
   "source": [
    "valid_ds.info()"
   ]
  },
  {
   "cell_type": "markdown",
   "id": "9dca43ba-2e98-4f8f-aa18-eba149ddc942",
   "metadata": {},
   "source": [
    "## Label Model"
   ]
  },
  {
   "cell_type": "code",
   "execution_count": 10,
   "id": "9f335f04-0a07-47a0-9e43-f0bd2971f00b",
   "metadata": {},
   "outputs": [
    {
     "data": {
      "text/plain": [
       "array([[1, 1, 0, 1],\n",
       "       [1, 1, 0, 1],\n",
       "       [1, 1, 0, 1],\n",
       "       [1, 1, 1, 1],\n",
       "       [1, 1, 0, 1],\n",
       "       [1, 1, 1, 1],\n",
       "       [1, 1, 0, 1],\n",
       "       [1, 1, 0, 1],\n",
       "       [1, 1, 0, 1],\n",
       "       [1, 1, 0, 1]])"
      ]
     },
     "execution_count": 10,
     "metadata": {},
     "output_type": "execute_result"
    }
   ],
   "source": [
    "L_train = train_ds[zero_shot_models].to_numpy()\n",
    "L_valid = valid_ds[zero_shot_models].to_numpy()\n",
    "\n",
    "L_valid[:10]"
   ]
  },
  {
   "cell_type": "code",
   "execution_count": 11,
   "id": "c905de34-d105-4692-8757-a52d29f35c15",
   "metadata": {},
   "outputs": [
    {
     "name": "stderr",
     "output_type": "stream",
     "text": [
      "INFO:root:Computing O...\n",
      "INFO:root:Estimating \\mu...\n",
      "  0%|          | 0/500 [00:00<?, ?epoch/s]INFO:root:[0 epochs]: TRAIN:[loss=9.234]\n",
      " 15%|█▌        | 76/500 [00:00<00:01, 271.51epoch/s]INFO:root:[100 epochs]: TRAIN:[loss=7.238]\n",
      " 34%|███▍      | 172/500 [00:00<00:01, 275.00epoch/s]INFO:root:[200 epochs]: TRAIN:[loss=2.490]\n",
      " 58%|█████▊    | 289/500 [00:01<00:00, 284.03epoch/s]INFO:root:[300 epochs]: TRAIN:[loss=0.134]\n",
      " 76%|███████▌  | 381/500 [00:01<00:00, 298.64epoch/s]INFO:root:[400 epochs]: TRAIN:[loss=0.020]\n",
      "100%|██████████| 500/500 [00:01<00:00, 286.52epoch/s]\n",
      "INFO:root:Finished Training\n"
     ]
    }
   ],
   "source": [
    "from snorkel.labeling.model import LabelModel\n",
    "\n",
    "label_model = LabelModel(cardinality=100, verbose=True).to('cuda')\n",
    "label_model.fit(L_train=L_train, n_epochs=500, log_freq=100, seed=42)"
   ]
  },
  {
   "cell_type": "code",
   "execution_count": 12,
   "id": "e22e948d-feb9-4f91-8f89-422ab9f22bb8",
   "metadata": {},
   "outputs": [],
   "source": [
    "valid_gold = valid_ds.label.to_numpy()"
   ]
  },
  {
   "cell_type": "code",
   "execution_count": 13,
   "id": "9cd3443d-272f-4c5e-867d-8f69084298c4",
   "metadata": {},
   "outputs": [
    {
     "name": "stderr",
     "output_type": "stream",
     "text": [
      "WARNING:root:Metrics calculated over data points with non-abstain labels only\n"
     ]
    },
    {
     "data": {
      "text/plain": [
       "{'accuracy': 0.8401598401598401}"
      ]
     },
     "execution_count": 13,
     "metadata": {},
     "output_type": "execute_result"
    }
   ],
   "source": [
    "label_model.score(L_valid, valid_gold)"
   ]
  },
  {
   "cell_type": "code",
   "execution_count": 14,
   "id": "b5c71249-3789-417b-a37f-3c3890cf6c96",
   "metadata": {},
   "outputs": [],
   "source": [
    "train_ds['snorkel'] = label_model.predict(L_train)\n",
    "valid_ds['snorkel'] = label_model.predict(L_valid)"
   ]
  },
  {
   "cell_type": "markdown",
   "id": "efe79e73-ad6c-4ae7-9df9-46bf6b14b73a",
   "metadata": {},
   "source": [
    "## Training ML Model on gold data"
   ]
  },
  {
   "cell_type": "code",
   "execution_count": 15,
   "id": "41b2ad21-137f-45eb-a430-8c9bef4edb3e",
   "metadata": {},
   "outputs": [
    {
     "name": "stdout",
     "output_type": "stream",
     "text": [
      "Best cross-validation score: 0.88\n"
     ]
    }
   ],
   "source": [
    "from sklearn.feature_extraction.text import TfidfVectorizer\n",
    "from sklearn.pipeline import make_pipeline\n",
    "from sklearn.linear_model import LogisticRegression\n",
    "from sklearn.model_selection import GridSearchCV\n",
    "\n",
    "\n",
    "pipe = make_pipeline(TfidfVectorizer(min_df=5, norm=None), \n",
    "                     LogisticRegression(max_iter=1e4))\n",
    "param_grid = {'logisticregression__C': [0.1]}\n",
    "grid = GridSearchCV(pipe, param_grid, cv=5)\n",
    "grid.fit(train_ds['text'], train_ds['label'])\n",
    "print(\"Best cross-validation score: {:.2f}\".format(grid.best_score_))"
   ]
  },
  {
   "cell_type": "code",
   "execution_count": 16,
   "id": "a9b398b3-bd0a-4661-ba9e-80b9b423409c",
   "metadata": {},
   "outputs": [
    {
     "name": "stdout",
     "output_type": "stream",
     "text": [
      "Validation Accuracy:\n",
      "0.8597701149425288\n"
     ]
    }
   ],
   "source": [
    "from sklearn.metrics import accuracy_score\n",
    "print(f\"Validation Accuracy:\\n{accuracy_score(valid_ds['label'], grid.predict(valid_ds['text']))}\")"
   ]
  },
  {
   "cell_type": "markdown",
   "id": "d8115a5d-805f-4f2f-8b18-ec44b50c588f",
   "metadata": {},
   "source": [
    "## Training ML Model on noisy labels"
   ]
  },
  {
   "cell_type": "code",
   "execution_count": 17,
   "id": "d6c7471a-b699-4120-ba01-daa0c6e63c6c",
   "metadata": {},
   "outputs": [],
   "source": [
    "train_ds = train_ds[train_ds['snorkel'] != -1]\n",
    "valid_ds = valid_ds[valid_ds['snorkel'] != -1]"
   ]
  },
  {
   "cell_type": "code",
   "execution_count": 18,
   "id": "414357a8-2a46-481a-90d4-b8f74e85c6c3",
   "metadata": {},
   "outputs": [
    {
     "name": "stdout",
     "output_type": "stream",
     "text": [
      "<class 'pandas.core.frame.DataFrame'>\n",
      "Int64Index: 15327 entries, 0 to 26542\n",
      "Data columns (total 7 columns):\n",
      " #   Column                                   Non-Null Count  Dtype \n",
      "---  ------                                   --------------  ----- \n",
      " 0   text                                     15327 non-null  object\n",
      " 1   label                                    15327 non-null  int64 \n",
      " 2   facebook/bart-large-mnli                 15327 non-null  int64 \n",
      " 3   joeddav/xlm-roberta-large-xnli           15327 non-null  int64 \n",
      " 4   MoritzLaurer/mDeBERTa-v3-base-mnli-xnli  15327 non-null  int64 \n",
      " 5   BaptisteDoyen/camembert-base-xnli        15327 non-null  int64 \n",
      " 6   snorkel                                  15327 non-null  int64 \n",
      "dtypes: int64(6), object(1)\n",
      "memory usage: 957.9+ KB\n"
     ]
    }
   ],
   "source": [
    "train_ds.info()"
   ]
  },
  {
   "cell_type": "code",
   "execution_count": 19,
   "id": "c7ead3b6-0dd0-461b-81dc-b9c2c470c2ee",
   "metadata": {},
   "outputs": [
    {
     "name": "stdout",
     "output_type": "stream",
     "text": [
      "<class 'pandas.core.frame.DataFrame'>\n",
      "Int64Index: 17017 entries, 3 to 28709\n",
      "Data columns (total 7 columns):\n",
      " #   Column                                   Non-Null Count  Dtype \n",
      "---  ------                                   --------------  ----- \n",
      " 0   text                                     17017 non-null  object\n",
      " 1   label                                    17017 non-null  int64 \n",
      " 2   facebook/bart-large-mnli                 17017 non-null  int64 \n",
      " 3   joeddav/xlm-roberta-large-xnli           17017 non-null  int64 \n",
      " 4   MoritzLaurer/mDeBERTa-v3-base-mnli-xnli  17017 non-null  int64 \n",
      " 5   BaptisteDoyen/camembert-base-xnli        17017 non-null  int64 \n",
      " 6   snorkel                                  17017 non-null  int64 \n",
      "dtypes: int64(6), object(1)\n",
      "memory usage: 1.0+ MB\n"
     ]
    }
   ],
   "source": [
    "valid_ds.info()"
   ]
  },
  {
   "cell_type": "code",
   "execution_count": 20,
   "id": "7275e01a-9230-4784-8003-2a00e660c939",
   "metadata": {},
   "outputs": [
    {
     "name": "stdout",
     "output_type": "stream",
     "text": [
      "Best cross-validation score: 0.78\n",
      "Validation Accuracy:\n",
      "0.8113651054827525\n"
     ]
    }
   ],
   "source": [
    "grid.fit(train_ds['text'], train_ds['snorkel'])\n",
    "print(\"Best cross-validation score: {:.2f}\".format(grid.best_score_))\n",
    "print(f\"Validation Accuracy:\\n{accuracy_score(valid_ds['label'], grid.predict(valid_ds['text']))}\")"
   ]
  }
 ],
 "metadata": {
  "kernelspec": {
   "display_name": "Python 3 (ipykernel)",
   "language": "python",
   "name": "python3"
  },
  "language_info": {
   "codemirror_mode": {
    "name": "ipython",
    "version": 3
   },
   "file_extension": ".py",
   "mimetype": "text/x-python",
   "name": "python",
   "nbconvert_exporter": "python",
   "pygments_lexer": "ipython3",
   "version": "3.9.13"
  }
 },
 "nbformat": 4,
 "nbformat_minor": 5
}
