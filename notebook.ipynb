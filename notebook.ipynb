{
 "cells": [
  {
   "cell_type": "markdown",
   "id": "bad6d256-3682-4870-b7e3-98c623a71659",
   "metadata": {},
   "source": [
    "# Better not Bigger"
   ]
  },
  {
   "cell_type": "markdown",
   "id": "5eba57b6-c6e1-498a-807b-e4425bf55309",
   "metadata": {},
   "source": [
    "Case study from snorkel."
   ]
  },
  {
   "cell_type": "markdown",
   "id": "21c0c2e4-a511-489c-8f85-35132ab9b059",
   "metadata": {},
   "source": [
    "## Dataset"
   ]
  },
  {
   "cell_type": "markdown",
   "id": "0b131c0f-b26f-46db-aeaa-ee6b50136ba1",
   "metadata": {},
   "source": [
    "LEDGAR from [LEX GLUE](https://huggingface.co/datasets/lex_glue)"
   ]
  },
  {
   "cell_type": "markdown",
   "id": "640f18af-a329-4200-be48-175b3d270688",
   "metadata": {},
   "source": [
    "## Setup"
   ]
  },
  {
   "cell_type": "code",
   "execution_count": null,
   "id": "93690a10-64dd-463f-8f49-ae476156f47a",
   "metadata": {},
   "outputs": [],
   "source": [
    "!pip install snorkel transformers datasets -q"
   ]
  },
  {
   "cell_type": "markdown",
   "id": "39b78f10-01e6-4fa0-ac87-65c1ec675504",
   "metadata": {},
   "source": [
    "## Reading Dataset"
   ]
  },
  {
   "cell_type": "code",
   "execution_count": 71,
   "id": "0ffeabab-6e2f-47e7-838d-a8cca849c640",
   "metadata": {},
   "outputs": [
    {
     "name": "stderr",
     "output_type": "stream",
     "text": [
      "WARNING:datasets.builder:Reusing dataset lex_glue (/root/.cache/huggingface/datasets/lex_glue/ledgar/1.0.0/c3c0bd7433b636dc39ae49a84dc401190c73156617efc415b04e9835a93a7043)\n"
     ]
    },
    {
     "data": {
      "application/vnd.jupyter.widget-view+json": {
       "model_id": "c8bd5f559018474eb840c56b931532a0",
       "version_major": 2,
       "version_minor": 0
      },
      "text/plain": [
       "  0%|          | 0/3 [00:00<?, ?it/s]"
      ]
     },
     "metadata": {},
     "output_type": "display_data"
    },
    {
     "data": {
      "text/plain": [
       "DatasetDict({\n",
       "    train: Dataset({\n",
       "        features: ['text', 'label'],\n",
       "        num_rows: 60000\n",
       "    })\n",
       "    test: Dataset({\n",
       "        features: ['text', 'label'],\n",
       "        num_rows: 10000\n",
       "    })\n",
       "    validation: Dataset({\n",
       "        features: ['text', 'label'],\n",
       "        num_rows: 10000\n",
       "    })\n",
       "})"
      ]
     },
     "execution_count": 71,
     "metadata": {},
     "output_type": "execute_result"
    }
   ],
   "source": [
    "from datasets import load_dataset\n",
    "\n",
    "ledgar = load_dataset('lex_glue', name='ledgar')\n",
    "\n",
    "ledgar"
   ]
  },
  {
   "cell_type": "code",
   "execution_count": 72,
   "id": "29eebd13-b1ce-491f-98ce-4a53695f0618",
   "metadata": {},
   "outputs": [
    {
     "data": {
      "text/plain": [
       "{'text': Value(dtype='string', id=None),\n",
       " 'label': ClassLabel(num_classes=100, names=['Adjustments', 'Agreements', 'Amendments', 'Anti-Corruption Laws', 'Applicable Laws', 'Approvals', 'Arbitration', 'Assignments', 'Assigns', 'Authority', 'Authorizations', 'Base Salary', 'Benefits', 'Binding Effects', 'Books', 'Brokers', 'Capitalization', 'Change In Control', 'Closings', 'Compliance With Laws', 'Confidentiality', 'Consent To Jurisdiction', 'Consents', 'Construction', 'Cooperation', 'Costs', 'Counterparts', 'Death', 'Defined Terms', 'Definitions', 'Disability', 'Disclosures', 'Duties', 'Effective Dates', 'Effectiveness', 'Employment', 'Enforceability', 'Enforcements', 'Entire Agreements', 'Erisa', 'Existence', 'Expenses', 'Fees', 'Financial Statements', 'Forfeitures', 'Further Assurances', 'General', 'Governing Laws', 'Headings', 'Indemnifications', 'Indemnity', 'Insurances', 'Integration', 'Intellectual Property', 'Interests', 'Interpretations', 'Jurisdictions', 'Liens', 'Litigations', 'Miscellaneous', 'Modifications', 'No Conflicts', 'No Defaults', 'No Waivers', 'Non-Disparagement', 'Notices', 'Organizations', 'Participations', 'Payments', 'Positions', 'Powers', 'Publicity', 'Qualifications', 'Records', 'Releases', 'Remedies', 'Representations', 'Sales', 'Sanctions', 'Severability', 'Solvency', 'Specific Performance', 'Submission To Jurisdiction', 'Subsidiaries', 'Successors', 'Survival', 'Tax Withholdings', 'Taxes', 'Terminations', 'Terms', 'Titles', 'Transactions With Affiliates', 'Use Of Proceeds', 'Vacations', 'Venues', 'Vesting', 'Waiver Of Jury Trials', 'Waivers', 'Warranties', 'Withholdings'], id=None)}"
      ]
     },
     "execution_count": 72,
     "metadata": {},
     "output_type": "execute_result"
    }
   ],
   "source": [
    "ledgar['train'].features"
   ]
  },
  {
   "cell_type": "code",
   "execution_count": 73,
   "id": "63d4a102-a10c-4079-aee1-04c9029e3392",
   "metadata": {},
   "outputs": [
    {
     "name": "stdout",
     "output_type": "stream",
     "text": [
      "Number of labels = 100\n"
     ]
    }
   ],
   "source": [
    "labels = ledgar['train'].features['label'].names\n",
    "\n",
    "print(f'Number of labels = {len(labels)}')"
   ]
  },
  {
   "cell_type": "code",
   "execution_count": 74,
   "id": "1b6e9069-4f17-4f4b-9147-175ec75077b8",
   "metadata": {},
   "outputs": [],
   "source": [
    "int2str = {i: j for i, j in enumerate(labels)}\n",
    "str2int = {j: i for i, j in enumerate(labels)}"
   ]
  },
  {
   "cell_type": "code",
   "execution_count": 75,
   "id": "d292b108-b738-4b6f-a208-c8659f5ef1fd",
   "metadata": {},
   "outputs": [
    {
     "name": "stdout",
     "output_type": "stream",
     "text": [
      "No ERISA Event has occurred or is reasonably expected to occur that, when taken together with all other such ERISA Events for which liability is reasonably expected to occur, could reasonably be expected to result in a Material Adverse Effect. Neither Borrower nor any ERISA Affiliate maintains or contributes to or has any obligation to maintain or contribute to any Multiemployer Plan or Plan, nor otherwise has any liability under Title IV of ERISA.\n",
      "Erisa\n"
     ]
    }
   ],
   "source": [
    "example = ledgar['train'][1]\n",
    "\n",
    "print(example['text'])\n",
    "print(int2str[example['label']])"
   ]
  },
  {
   "cell_type": "code",
   "execution_count": 104,
   "id": "5699a494-9926-415f-99f6-a4d9cc403dd4",
   "metadata": {},
   "outputs": [
    {
     "data": {
      "text/plain": [
       "DatasetDict({\n",
       "    train: Dataset({\n",
       "        features: ['text', 'label'],\n",
       "        num_rows: 5\n",
       "    })\n",
       "    test: Dataset({\n",
       "        features: ['text', 'label'],\n",
       "        num_rows: 10000\n",
       "    })\n",
       "    validation: Dataset({\n",
       "        features: ['text', 'label'],\n",
       "        num_rows: 5\n",
       "    })\n",
       "})"
      ]
     },
     "execution_count": 104,
     "metadata": {},
     "output_type": "execute_result"
    }
   ],
   "source": [
    "# use much smaller dataset\n",
    "\n",
    "ledgar['train'] = ledgar['train'].shuffle(seed=42).select(range(5))\n",
    "ledgar['validation'] = ledgar['validation'].shuffle(seed=42).select(range(5))\n",
    "\n",
    "ledgar"
   ]
  },
  {
   "cell_type": "markdown",
   "id": "a8b26d2a-092b-490a-9aca-f6da3aee1d3e",
   "metadata": {},
   "source": [
    "## Dummy Labels"
   ]
  },
  {
   "cell_type": "code",
   "execution_count": 105,
   "id": "53b0445d-f70e-4d07-b636-58449cc44618",
   "metadata": {},
   "outputs": [
    {
     "name": "stderr",
     "output_type": "stream",
     "text": [
      "The `xla_device` argument has been deprecated in v4.4.0 of Transformers. It is ignored and you can safely remove it from your `config.json` file.\n",
      "The `xla_device` argument has been deprecated in v4.4.0 of Transformers. It is ignored and you can safely remove it from your `config.json` file.\n",
      "The `xla_device` argument has been deprecated in v4.4.0 of Transformers. It is ignored and you can safely remove it from your `config.json` file.\n",
      "The `xla_device` argument has been deprecated in v4.4.0 of Transformers. It is ignored and you can safely remove it from your `config.json` file.\n",
      "The `xla_device` argument has been deprecated in v4.4.0 of Transformers. It is ignored and you can safely remove it from your `config.json` file.\n"
     ]
    }
   ],
   "source": [
    "from transformers import pipeline\n",
    "\n",
    "classifier = pipeline(\"zero-shot-classification\",\n",
    "                      model=\"typeform/distilbert-base-uncased-mnli\")"
   ]
  },
  {
   "cell_type": "code",
   "execution_count": 106,
   "id": "5eb6be1c-9143-4b2f-a31c-65a747c20753",
   "metadata": {},
   "outputs": [],
   "source": [
    "label = classifier(example['text'], labels)['labels'][0]"
   ]
  },
  {
   "cell_type": "code",
   "execution_count": 107,
   "id": "eb61599f-acb8-41f8-81b7-d45a235aafed",
   "metadata": {},
   "outputs": [
    {
     "data": {
      "text/plain": [
       "39"
      ]
     },
     "execution_count": 107,
     "metadata": {},
     "output_type": "execute_result"
    }
   ],
   "source": [
    "str2int[label]"
   ]
  },
  {
   "cell_type": "code",
   "execution_count": 108,
   "id": "733490e1-47b8-4169-aa21-cc5f57cd1e62",
   "metadata": {},
   "outputs": [],
   "source": [
    "from snorkel.preprocess import preprocessor\n",
    "from snorkel.labeling import labeling_function\n",
    "from snorkel.labeling import PandasLFApplier"
   ]
  },
  {
   "cell_type": "code",
   "execution_count": 114,
   "id": "bf87fa70-9ae1-428d-8820-0790bc29f64e",
   "metadata": {},
   "outputs": [
    {
     "name": "stderr",
     "output_type": "stream",
     "text": [
      "The `xla_device` argument has been deprecated in v4.4.0 of Transformers. It is ignored and you can safely remove it from your `config.json` file.\n",
      "The `xla_device` argument has been deprecated in v4.4.0 of Transformers. It is ignored and you can safely remove it from your `config.json` file.\n",
      "The `xla_device` argument has been deprecated in v4.4.0 of Transformers. It is ignored and you can safely remove it from your `config.json` file.\n",
      "The `xla_device` argument has been deprecated in v4.4.0 of Transformers. It is ignored and you can safely remove it from your `config.json` file.\n",
      "The `xla_device` argument has been deprecated in v4.4.0 of Transformers. It is ignored and you can safely remove it from your `config.json` file.\n"
     ]
    }
   ],
   "source": [
    "dbert_cls = pipeline(\"zero-shot-classification\",\n",
    "                      model=\"typeform/distilbert-base-uncased-mnli\")\n",
    "\n",
    "@preprocessor(memoize=True)\n",
    "def get_label_dbert(example):\n",
    "    output = dbert_cls(example['text'], labels)\n",
    "    label = output['labels'][0]\n",
    "    score = output['scores'][0]\n",
    "    example.label_ = label\n",
    "    example.score_ = score\n",
    "    return example\n",
    "\n",
    "\n",
    "@labeling_function(pre=[get_label_dbert])\n",
    "def label_dbert(example):\n",
    "    if example.score_ > 0.75:\n",
    "        return str2int[example.label_]\n",
    "    return -1"
   ]
  },
  {
   "cell_type": "code",
   "execution_count": 115,
   "id": "d964b039-3b96-4068-99c2-7e17886cc8b4",
   "metadata": {},
   "outputs": [],
   "source": [
    "dbart_129_cls = pipeline(\"zero-shot-classification\",\n",
    "                      model=\"valhalla/distilbart-mnli-12-9\")\n",
    "\n",
    "@preprocessor(memoize=True)\n",
    "def get_label_dbart_129(example):\n",
    "    output = dbart_129_cls(example['text'], labels)\n",
    "    label = output['labels'][0]\n",
    "    score = output['scores'][0]\n",
    "    example.label_ = label\n",
    "    example.score_ = score\n",
    "    return example\n",
    "\n",
    "\n",
    "@labeling_function(pre=[get_label_dbart_129])\n",
    "def label_dbart_129(example):\n",
    "    if example.score_ > 0.75:\n",
    "        return str2int[example.label_]\n",
    "    return -1"
   ]
  },
  {
   "cell_type": "code",
   "execution_count": 116,
   "id": "787323d9-41e4-4672-aae8-7f9328a73d87",
   "metadata": {},
   "outputs": [],
   "source": [
    "dbart_121_cls = pipeline(\"zero-shot-classification\",\n",
    "                      model=\"valhalla/distilbart-mnli-12-1\")\n",
    "\n",
    "@preprocessor(memoize=True)\n",
    "def get_label_dbart_121(example):\n",
    "    output = dbart_121_cls(example['text'], labels)\n",
    "    label = output['labels'][0]\n",
    "    score = output['scores'][0]\n",
    "    example.label_ = label\n",
    "    example.score_ = score\n",
    "    return example\n",
    "\n",
    "\n",
    "@labeling_function(pre=[get_label_dbart_121])\n",
    "def label_dbart_121(example):\n",
    "    if example.score_ > 0.75:\n",
    "        return str2int[example.label_]\n",
    "    return -1"
   ]
  },
  {
   "cell_type": "code",
   "execution_count": 117,
   "id": "0e8466b2-a9e3-437d-bf52-3001427a59a8",
   "metadata": {},
   "outputs": [],
   "source": [
    "train_df = ledgar['train'].to_pandas()\n",
    "valid_df = ledgar['validation'].to_pandas()"
   ]
  },
  {
   "cell_type": "code",
   "execution_count": null,
   "id": "9f335f04-0a07-47a0-9e43-f0bd2971f00b",
   "metadata": {},
   "outputs": [
    {
     "name": "stderr",
     "output_type": "stream",
     "text": [
      "100%|██████████| 5/5 [05:18<00:00, 63.69s/it]\n",
      "100%|██████████| 5/5 [07:15<00:00, 114.30s/it]"
     ]
    }
   ],
   "source": [
    "applier = PandasLFApplier([label_dbert, label_dbart_129, label_dbart_121])\n",
    "\n",
    "L_train = applier.apply(train_df)\n",
    "L_valid = applier.apply(valid_df)\n",
    "\n",
    "L_train"
   ]
  },
  {
   "cell_type": "code",
   "execution_count": 65,
   "id": "c905de34-d105-4692-8757-a52d29f35c15",
   "metadata": {},
   "outputs": [
    {
     "name": "stderr",
     "output_type": "stream",
     "text": [
      "INFO:root:Computing O...\n",
      "INFO:root:Estimating \\mu...\n",
      "  0%|          | 0/500 [00:00<?, ?epoch/s]INFO:root:[0 epochs]: TRAIN:[loss=0.953]\n",
      " 20%|██        | 100/500 [00:00<00:01, 353.08epoch/s]INFO:root:[100 epochs]: TRAIN:[loss=0.842]\n",
      " 36%|███▌      | 181/500 [00:00<00:00, 381.63epoch/s]INFO:root:[200 epochs]: TRAIN:[loss=0.744]\n",
      " 53%|█████▎    | 263/500 [00:00<00:00, 395.99epoch/s]INFO:root:[300 epochs]: TRAIN:[loss=0.669]\n",
      " 77%|███████▋  | 386/500 [00:01<00:00, 397.01epoch/s]INFO:root:[400 epochs]: TRAIN:[loss=0.616]\n",
      "100%|██████████| 500/500 [00:01<00:00, 381.73epoch/s]\n",
      "INFO:root:Finished Training\n"
     ]
    }
   ],
   "source": [
    "from snorkel.labeling.model import LabelModel\n",
    "\n",
    "label_model = LabelModel(cardinality=100, verbose=True)\n",
    "label_model.fit(L_train=L_train, n_epochs=500, log_freq=100, seed=42)"
   ]
  },
  {
   "cell_type": "code",
   "execution_count": 68,
   "id": "e22e948d-feb9-4f91-8f89-422ab9f22bb8",
   "metadata": {},
   "outputs": [],
   "source": [
    "import numpy as np\n",
    "gold = np.array(ledgar['validation'][:]['label'])"
   ]
  },
  {
   "cell_type": "code",
   "execution_count": 69,
   "id": "9cd3443d-272f-4c5e-867d-8f69084298c4",
   "metadata": {},
   "outputs": [
    {
     "name": "stderr",
     "output_type": "stream",
     "text": [
      "WARNING:root:Metrics calculated over data points with non-abstain labels only\n"
     ]
    },
    {
     "data": {
      "text/plain": [
       "{'accuracy': 0.5}"
      ]
     },
     "execution_count": 69,
     "metadata": {},
     "output_type": "execute_result"
    }
   ],
   "source": [
    "label_model.score(L_test, gold)"
   ]
  },
  {
   "cell_type": "code",
   "execution_count": null,
   "id": "d3acb312-01d1-406e-84d1-b7f6a31c34a1",
   "metadata": {},
   "outputs": [],
   "source": []
  }
 ],
 "metadata": {
  "kernelspec": {
   "display_name": "Python 3 (ipykernel)",
   "language": "python",
   "name": "python3"
  },
  "language_info": {
   "codemirror_mode": {
    "name": "ipython",
    "version": 3
   },
   "file_extension": ".py",
   "mimetype": "text/x-python",
   "name": "python",
   "nbconvert_exporter": "python",
   "pygments_lexer": "ipython3",
   "version": "3.9.13"
  }
 },
 "nbformat": 4,
 "nbformat_minor": 5
}
