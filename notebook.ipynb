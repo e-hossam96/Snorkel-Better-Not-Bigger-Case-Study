{
 "cells": [
  {
   "cell_type": "markdown",
   "id": "bad6d256-3682-4870-b7e3-98c623a71659",
   "metadata": {},
   "source": [
    "# Better not Bigger"
   ]
  },
  {
   "cell_type": "markdown",
   "id": "5eba57b6-c6e1-498a-807b-e4425bf55309",
   "metadata": {},
   "source": [
    "Case study from snorkel."
   ]
  },
  {
   "cell_type": "markdown",
   "id": "21c0c2e4-a511-489c-8f85-35132ab9b059",
   "metadata": {},
   "source": [
    "## Dataset"
   ]
  },
  {
   "cell_type": "markdown",
   "id": "0b131c0f-b26f-46db-aeaa-ee6b50136ba1",
   "metadata": {},
   "source": [
    "LEDGAR from [LEX GLUE](https://huggingface.co/datasets/lex_glue)"
   ]
  },
  {
   "cell_type": "markdown",
   "id": "640f18af-a329-4200-be48-175b3d270688",
   "metadata": {},
   "source": [
    "## Setup"
   ]
  },
  {
   "cell_type": "code",
   "execution_count": 161,
   "id": "93690a10-64dd-463f-8f49-ae476156f47a",
   "metadata": {},
   "outputs": [
    {
     "name": "stdout",
     "output_type": "stream",
     "text": [
      "\u001b[33mWARNING: Running pip as the 'root' user can result in broken permissions and conflicting behaviour with the system package manager. It is recommended to use a virtual environment instead: https://pip.pypa.io/warnings/venv\u001b[0m\u001b[33m\n",
      "\u001b[0m"
     ]
    }
   ],
   "source": [
    "!pip install snorkel transformers datasets -q"
   ]
  },
  {
   "cell_type": "markdown",
   "id": "39b78f10-01e6-4fa0-ac87-65c1ec675504",
   "metadata": {},
   "source": [
    "## Reading Dataset"
   ]
  },
  {
   "cell_type": "markdown",
   "id": "4c11d9fe-a2bb-4949-ab0f-b4f4fa8d740e",
   "metadata": {},
   "source": [
    "### Loading saved data"
   ]
  },
  {
   "cell_type": "code",
   "execution_count": 157,
   "id": "2b233952-255a-47e2-b9cd-8bdb7873ccec",
   "metadata": {},
   "outputs": [],
   "source": [
    "import glob\n",
    "import pandas as pd\n",
    "import numpy as np\n",
    "\n",
    "import datasets\n",
    "from datasets import concatenate_datasets, load_dataset, Dataset\n",
    "\n",
    "datasets.logging.set_verbosity_error()"
   ]
  },
  {
   "cell_type": "code",
   "execution_count": 131,
   "id": "72f58513-727d-4f70-8c8c-b5ec533cb94b",
   "metadata": {},
   "outputs": [
    {
     "data": {
      "text/plain": [
       "[(0, 500),\n",
       " (500, 1000),\n",
       " (1000, 1500),\n",
       " (1500, 2000),\n",
       " (2000, 2500),\n",
       " (2500, 3000),\n",
       " (3000, 3500),\n",
       " (3500, 4000),\n",
       " (4000, 4500),\n",
       " (4500, 5000),\n",
       " (5000, 5500)]"
      ]
     },
     "execution_count": 131,
     "metadata": {},
     "output_type": "execute_result"
    }
   ],
   "source": [
    "zero_shot_models = [\"facebook/bart-large-mnli\", \n",
    "                    \"joeddav/xlm-roberta-large-xnli\", \n",
    "                    \"MoritzLaurer/mDeBERTa-v3-base-mnli-xnli\", \n",
    "                    \"BaptisteDoyen/camembert-base-xnli\"]\n",
    "\n",
    "batch_sizes = list(range(0, 5500+1, 500))\n",
    "inds = len(batch_sizes) - 1\n",
    "batch_sizes = [(batch_sizes[i], batch_sizes[i + 1]) for i in range(inds)]\n",
    "batch_sizes"
   ]
  },
  {
   "cell_type": "code",
   "execution_count": 132,
   "id": "3eb22c8f-cf3f-496f-af7f-e94f6f24e026",
   "metadata": {},
   "outputs": [],
   "source": [
    "train_dfs = []\n",
    "valid_dfs = []\n",
    "for model in zero_shot_models:\n",
    "    \n",
    "    train_dfs_ = []\n",
    "    valid_dfs_ = []\n",
    "\n",
    "    for batch in batch_sizes:\n",
    "        train_dfs_.append(load_dataset('json', \n",
    "                                       data_files=f'data/'\n",
    "                                       f'{model}/train_{batch[0]}_{batch[1]}.json', \n",
    "                                       split='train').to_pandas())\n",
    "        valid_dfs_.append(load_dataset('json', \n",
    "                                       data_files=f'data/'\n",
    "                                       f'{model}/train_{batch[0]}_{batch[1]}.json', \n",
    "                                       split='train').to_pandas())\n",
    "    train_dfs.append(pd.concat(train_dfs_, axis=0))\n",
    "    valid_dfs.append(pd.concat(valid_dfs_, axis=0))"
   ]
  },
  {
   "cell_type": "code",
   "execution_count": 136,
   "id": "809c3fac-ac34-4be7-be79-247e6eee0661",
   "metadata": {},
   "outputs": [],
   "source": [
    "train_ds = train_dfs[0].copy()\n",
    "\n",
    "for df in train_dfs[1:]:\n",
    "    train_ds = train_ds.merge(right=df, on=['text', 'label'])\n",
    "\n",
    "valid_ds = valid_dfs[0].copy()\n",
    "\n",
    "for df in valid_dfs[1:]:\n",
    "    valid_ds = valid_ds.merge(right=df, on=['text', 'label'])"
   ]
  },
  {
   "cell_type": "code",
   "execution_count": 137,
   "id": "fc6a19b6-a894-4fdc-be58-72ff77aa85bd",
   "metadata": {},
   "outputs": [
    {
     "data": {
      "text/html": [
       "<div>\n",
       "<style scoped>\n",
       "    .dataframe tbody tr th:only-of-type {\n",
       "        vertical-align: middle;\n",
       "    }\n",
       "\n",
       "    .dataframe tbody tr th {\n",
       "        vertical-align: top;\n",
       "    }\n",
       "\n",
       "    .dataframe thead th {\n",
       "        text-align: right;\n",
       "    }\n",
       "</style>\n",
       "<table border=\"1\" class=\"dataframe\">\n",
       "  <thead>\n",
       "    <tr style=\"text-align: right;\">\n",
       "      <th></th>\n",
       "      <th>text</th>\n",
       "      <th>label</th>\n",
       "      <th>facebook/bart-large-mnli</th>\n",
       "      <th>joeddav/xlm-roberta-large-xnli</th>\n",
       "      <th>MoritzLaurer/mDeBERTa-v3-base-mnli-xnli</th>\n",
       "      <th>BaptisteDoyen/camembert-base-xnli</th>\n",
       "    </tr>\n",
       "  </thead>\n",
       "  <tbody>\n",
       "    <tr>\n",
       "      <th>0</th>\n",
       "      <td>Except as otherwise set forth in this Debentur...</td>\n",
       "      <td>97</td>\n",
       "      <td>-1</td>\n",
       "      <td>66</td>\n",
       "      <td>-1</td>\n",
       "      <td>-1</td>\n",
       "    </tr>\n",
       "    <tr>\n",
       "      <th>1</th>\n",
       "      <td>No ERISA Event has occurred or is reasonably e...</td>\n",
       "      <td>39</td>\n",
       "      <td>-1</td>\n",
       "      <td>90</td>\n",
       "      <td>-1</td>\n",
       "      <td>-1</td>\n",
       "    </tr>\n",
       "    <tr>\n",
       "      <th>2</th>\n",
       "      <td>This Amendment may be executed by one or more ...</td>\n",
       "      <td>26</td>\n",
       "      <td>-1</td>\n",
       "      <td>2</td>\n",
       "      <td>-1</td>\n",
       "      <td>-1</td>\n",
       "    </tr>\n",
       "    <tr>\n",
       "      <th>3</th>\n",
       "      <td>From time to time, as and when required by the...</td>\n",
       "      <td>45</td>\n",
       "      <td>-1</td>\n",
       "      <td>-1</td>\n",
       "      <td>-1</td>\n",
       "      <td>-1</td>\n",
       "    </tr>\n",
       "    <tr>\n",
       "      <th>4</th>\n",
       "      <td>Commencing March 7, 2016 and during the Employ...</td>\n",
       "      <td>11</td>\n",
       "      <td>-1</td>\n",
       "      <td>-1</td>\n",
       "      <td>-1</td>\n",
       "      <td>-1</td>\n",
       "    </tr>\n",
       "  </tbody>\n",
       "</table>\n",
       "</div>"
      ],
      "text/plain": [
       "                                                text  label  \\\n",
       "0  Except as otherwise set forth in this Debentur...     97   \n",
       "1  No ERISA Event has occurred or is reasonably e...     39   \n",
       "2  This Amendment may be executed by one or more ...     26   \n",
       "3  From time to time, as and when required by the...     45   \n",
       "4  Commencing March 7, 2016 and during the Employ...     11   \n",
       "\n",
       "   facebook/bart-large-mnli  joeddav/xlm-roberta-large-xnli  \\\n",
       "0                        -1                              66   \n",
       "1                        -1                              90   \n",
       "2                        -1                               2   \n",
       "3                        -1                              -1   \n",
       "4                        -1                              -1   \n",
       "\n",
       "   MoritzLaurer/mDeBERTa-v3-base-mnli-xnli  BaptisteDoyen/camembert-base-xnli  \n",
       "0                                       -1                                 -1  \n",
       "1                                       -1                                 -1  \n",
       "2                                       -1                                 -1  \n",
       "3                                       -1                                 -1  \n",
       "4                                       -1                                 -1  "
      ]
     },
     "execution_count": 137,
     "metadata": {},
     "output_type": "execute_result"
    }
   ],
   "source": [
    "train_ds.head()"
   ]
  },
  {
   "cell_type": "code",
   "execution_count": 138,
   "id": "c4745798-2d85-4a02-9887-47cfe92e0349",
   "metadata": {},
   "outputs": [
    {
     "data": {
      "text/html": [
       "<div>\n",
       "<style scoped>\n",
       "    .dataframe tbody tr th:only-of-type {\n",
       "        vertical-align: middle;\n",
       "    }\n",
       "\n",
       "    .dataframe tbody tr th {\n",
       "        vertical-align: top;\n",
       "    }\n",
       "\n",
       "    .dataframe thead th {\n",
       "        text-align: right;\n",
       "    }\n",
       "</style>\n",
       "<table border=\"1\" class=\"dataframe\">\n",
       "  <thead>\n",
       "    <tr style=\"text-align: right;\">\n",
       "      <th></th>\n",
       "      <th>text</th>\n",
       "      <th>label</th>\n",
       "      <th>facebook/bart-large-mnli</th>\n",
       "      <th>joeddav/xlm-roberta-large-xnli</th>\n",
       "      <th>MoritzLaurer/mDeBERTa-v3-base-mnli-xnli</th>\n",
       "      <th>BaptisteDoyen/camembert-base-xnli</th>\n",
       "    </tr>\n",
       "  </thead>\n",
       "  <tbody>\n",
       "    <tr>\n",
       "      <th>0</th>\n",
       "      <td>Except as otherwise set forth in this Debentur...</td>\n",
       "      <td>97</td>\n",
       "      <td>-1</td>\n",
       "      <td>66</td>\n",
       "      <td>-1</td>\n",
       "      <td>-1</td>\n",
       "    </tr>\n",
       "    <tr>\n",
       "      <th>1</th>\n",
       "      <td>No ERISA Event has occurred or is reasonably e...</td>\n",
       "      <td>39</td>\n",
       "      <td>-1</td>\n",
       "      <td>90</td>\n",
       "      <td>-1</td>\n",
       "      <td>-1</td>\n",
       "    </tr>\n",
       "    <tr>\n",
       "      <th>2</th>\n",
       "      <td>This Amendment may be executed by one or more ...</td>\n",
       "      <td>26</td>\n",
       "      <td>-1</td>\n",
       "      <td>2</td>\n",
       "      <td>-1</td>\n",
       "      <td>-1</td>\n",
       "    </tr>\n",
       "    <tr>\n",
       "      <th>3</th>\n",
       "      <td>From time to time, as and when required by the...</td>\n",
       "      <td>45</td>\n",
       "      <td>-1</td>\n",
       "      <td>-1</td>\n",
       "      <td>-1</td>\n",
       "      <td>-1</td>\n",
       "    </tr>\n",
       "    <tr>\n",
       "      <th>4</th>\n",
       "      <td>Commencing March 7, 2016 and during the Employ...</td>\n",
       "      <td>11</td>\n",
       "      <td>-1</td>\n",
       "      <td>-1</td>\n",
       "      <td>-1</td>\n",
       "      <td>-1</td>\n",
       "    </tr>\n",
       "  </tbody>\n",
       "</table>\n",
       "</div>"
      ],
      "text/plain": [
       "                                                text  label  \\\n",
       "0  Except as otherwise set forth in this Debentur...     97   \n",
       "1  No ERISA Event has occurred or is reasonably e...     39   \n",
       "2  This Amendment may be executed by one or more ...     26   \n",
       "3  From time to time, as and when required by the...     45   \n",
       "4  Commencing March 7, 2016 and during the Employ...     11   \n",
       "\n",
       "   facebook/bart-large-mnli  joeddav/xlm-roberta-large-xnli  \\\n",
       "0                        -1                              66   \n",
       "1                        -1                              90   \n",
       "2                        -1                               2   \n",
       "3                        -1                              -1   \n",
       "4                        -1                              -1   \n",
       "\n",
       "   MoritzLaurer/mDeBERTa-v3-base-mnli-xnli  BaptisteDoyen/camembert-base-xnli  \n",
       "0                                       -1                                 -1  \n",
       "1                                       -1                                 -1  \n",
       "2                                       -1                                 -1  \n",
       "3                                       -1                                 -1  \n",
       "4                                       -1                                 -1  "
      ]
     },
     "execution_count": 138,
     "metadata": {},
     "output_type": "execute_result"
    }
   ],
   "source": [
    "valid_ds.head()"
   ]
  },
  {
   "cell_type": "markdown",
   "id": "865807b3-e047-4f62-8574-bd5f8bde4faa",
   "metadata": {},
   "source": [
    "### Load test data"
   ]
  },
  {
   "cell_type": "code",
   "execution_count": 147,
   "id": "0ffeabab-6e2f-47e7-838d-a8cca849c640",
   "metadata": {},
   "outputs": [
    {
     "data": {
      "text/html": [
       "<div>\n",
       "<style scoped>\n",
       "    .dataframe tbody tr th:only-of-type {\n",
       "        vertical-align: middle;\n",
       "    }\n",
       "\n",
       "    .dataframe tbody tr th {\n",
       "        vertical-align: top;\n",
       "    }\n",
       "\n",
       "    .dataframe thead th {\n",
       "        text-align: right;\n",
       "    }\n",
       "</style>\n",
       "<table border=\"1\" class=\"dataframe\">\n",
       "  <thead>\n",
       "    <tr style=\"text-align: right;\">\n",
       "      <th></th>\n",
       "      <th>text</th>\n",
       "      <th>label</th>\n",
       "    </tr>\n",
       "  </thead>\n",
       "  <tbody>\n",
       "    <tr>\n",
       "      <th>0</th>\n",
       "      <td>Executive agrees to be employed with the Compa...</td>\n",
       "      <td>35</td>\n",
       "    </tr>\n",
       "    <tr>\n",
       "      <th>1</th>\n",
       "      <td>Participant agrees that in the event of a brea...</td>\n",
       "      <td>75</td>\n",
       "    </tr>\n",
       "    <tr>\n",
       "      <th>2</th>\n",
       "      <td>For purposes of this Amendment, all terms used...</td>\n",
       "      <td>55</td>\n",
       "    </tr>\n",
       "    <tr>\n",
       "      <th>3</th>\n",
       "      <td>So long as this as this Note is outstanding, u...</td>\n",
       "      <td>16</td>\n",
       "    </tr>\n",
       "    <tr>\n",
       "      <th>4</th>\n",
       "      <td>As of the Closing Date, Schedule 5.12 sets for...</td>\n",
       "      <td>83</td>\n",
       "    </tr>\n",
       "  </tbody>\n",
       "</table>\n",
       "</div>"
      ],
      "text/plain": [
       "                                                text  label\n",
       "0  Executive agrees to be employed with the Compa...     35\n",
       "1  Participant agrees that in the event of a brea...     75\n",
       "2  For purposes of this Amendment, all terms used...     55\n",
       "3  So long as this as this Note is outstanding, u...     16\n",
       "4  As of the Closing Date, Schedule 5.12 sets for...     83"
      ]
     },
     "execution_count": 147,
     "metadata": {},
     "output_type": "execute_result"
    }
   ],
   "source": [
    "from datasets import load_dataset\n",
    "\n",
    "test_ds = load_dataset('lex_glue', name='ledgar', split='test').to_pandas()\n",
    "\n",
    "test_ds.head()"
   ]
  },
  {
   "cell_type": "code",
   "execution_count": 148,
   "id": "63d4a102-a10c-4079-aee1-04c9029e3392",
   "metadata": {},
   "outputs": [
    {
     "name": "stdout",
     "output_type": "stream",
     "text": [
      "Number of labels = 10000\n"
     ]
    }
   ],
   "source": [
    "labels = test_ds.label.values\n",
    "\n",
    "print(f'Number of labels = {len(labels)}')"
   ]
  },
  {
   "cell_type": "code",
   "execution_count": 149,
   "id": "1b6e9069-4f17-4f4b-9147-175ec75077b8",
   "metadata": {},
   "outputs": [],
   "source": [
    "int2str = {i: j for i, j in enumerate(labels)}\n",
    "str2int = {j: i for i, j in enumerate(labels)}"
   ]
  },
  {
   "cell_type": "markdown",
   "id": "9dca43ba-2e98-4f8f-aa18-eba149ddc942",
   "metadata": {},
   "source": [
    "## Label Model"
   ]
  },
  {
   "cell_type": "code",
   "execution_count": 156,
   "id": "9f335f04-0a07-47a0-9e43-f0bd2971f00b",
   "metadata": {},
   "outputs": [
    {
     "data": {
      "text/plain": [
       "array([[-1, 66, -1, -1],\n",
       "       [-1, 90, -1, -1],\n",
       "       [-1,  2, -1, -1],\n",
       "       [-1, -1, -1, -1],\n",
       "       [-1, -1, -1, -1],\n",
       "       [-1,  1, -1, -1],\n",
       "       [-1, -1, -1, -1],\n",
       "       [-1, -1, -1, -1],\n",
       "       [-1, -1, 98, -1],\n",
       "       [-1,  1,  1, -1]])"
      ]
     },
     "execution_count": 156,
     "metadata": {},
     "output_type": "execute_result"
    }
   ],
   "source": [
    "L_train = train_ds[zero_shot_models].to_numpy()\n",
    "L_valid = valid_ds[zero_shot_models].to_numpy()\n",
    "\n",
    "L_valid[:10]"
   ]
  },
  {
   "cell_type": "code",
   "execution_count": 162,
   "id": "c905de34-d105-4692-8757-a52d29f35c15",
   "metadata": {},
   "outputs": [
    {
     "name": "stderr",
     "output_type": "stream",
     "text": [
      "INFO:root:Computing O...\n",
      "INFO:root:Estimating \\mu...\n",
      "  0%|          | 0/500 [00:00<?, ?epoch/s]INFO:root:[0 epochs]: TRAIN:[loss=0.030]\n",
      " 19%|█▉        | 97/500 [00:00<00:01, 244.16epoch/s]INFO:root:[100 epochs]: TRAIN:[loss=0.022]\n",
      " 35%|███▌      | 175/500 [00:00<00:01, 248.73epoch/s]INFO:root:[200 epochs]: TRAIN:[loss=0.016]\n",
      " 56%|█████▋    | 282/500 [00:01<00:00, 255.24epoch/s]INFO:root:[300 epochs]: TRAIN:[loss=0.011]\n",
      " 77%|███████▋  | 387/500 [00:01<00:00, 242.11epoch/s]INFO:root:[400 epochs]: TRAIN:[loss=0.008]\n",
      "100%|██████████| 500/500 [00:01<00:00, 251.50epoch/s]\n",
      "INFO:root:Finished Training\n"
     ]
    }
   ],
   "source": [
    "from snorkel.labeling.model import LabelModel\n",
    "\n",
    "label_model = LabelModel(cardinality=100, verbose=True).to('cuda')\n",
    "label_model.fit(L_train=L_train, n_epochs=500, log_freq=100, seed=42)"
   ]
  },
  {
   "cell_type": "code",
   "execution_count": 163,
   "id": "e22e948d-feb9-4f91-8f89-422ab9f22bb8",
   "metadata": {},
   "outputs": [],
   "source": [
    "valid_gold = valid_ds.label.to_numpy()"
   ]
  },
  {
   "cell_type": "code",
   "execution_count": 165,
   "id": "9cd3443d-272f-4c5e-867d-8f69084298c4",
   "metadata": {},
   "outputs": [
    {
     "name": "stderr",
     "output_type": "stream",
     "text": [
      "WARNING:root:Metrics calculated over data points with non-abstain labels only\n"
     ]
    },
    {
     "data": {
      "text/plain": [
       "{'accuracy': 0.36574420344053854}"
      ]
     },
     "execution_count": 165,
     "metadata": {},
     "output_type": "execute_result"
    }
   ],
   "source": [
    "label_model.score(L_valid, valid_gold)"
   ]
  },
  {
   "cell_type": "markdown",
   "id": "efe79e73-ad6c-4ae7-9df9-46bf6b14b73a",
   "metadata": {},
   "source": [
    "## Training on ML Model"
   ]
  },
  {
   "cell_type": "code",
   "execution_count": null,
   "id": "b5c71249-3789-417b-a37f-3c3890cf6c96",
   "metadata": {},
   "outputs": [],
   "source": []
  }
 ],
 "metadata": {
  "kernelspec": {
   "display_name": "Python 3 (ipykernel)",
   "language": "python",
   "name": "python3"
  },
  "language_info": {
   "codemirror_mode": {
    "name": "ipython",
    "version": 3
   },
   "file_extension": ".py",
   "mimetype": "text/x-python",
   "name": "python",
   "nbconvert_exporter": "python",
   "pygments_lexer": "ipython3",
   "version": "3.9.13"
  }
 },
 "nbformat": 4,
 "nbformat_minor": 5
}
