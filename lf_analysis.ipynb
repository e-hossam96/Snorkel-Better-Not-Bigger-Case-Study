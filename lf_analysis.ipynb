{
 "cells": [
  {
   "cell_type": "markdown",
   "id": "bad6d256-3682-4870-b7e3-98c623a71659",
   "metadata": {},
   "source": [
    "# Better not Bigger"
   ]
  },
  {
   "cell_type": "markdown",
   "id": "5eba57b6-c6e1-498a-807b-e4425bf55309",
   "metadata": {},
   "source": [
    "Case study from snorkel."
   ]
  },
  {
   "cell_type": "markdown",
   "id": "21c0c2e4-a511-489c-8f85-35132ab9b059",
   "metadata": {},
   "source": [
    "## Dataset"
   ]
  },
  {
   "cell_type": "markdown",
   "id": "0b131c0f-b26f-46db-aeaa-ee6b50136ba1",
   "metadata": {},
   "source": [
    "IMDb dataset from Hugging Face [datasets](https://huggingface.co/datasets/imdb)"
   ]
  },
  {
   "cell_type": "markdown",
   "id": "640f18af-a329-4200-be48-175b3d270688",
   "metadata": {},
   "source": [
    "## Setup"
   ]
  },
  {
   "cell_type": "code",
   "execution_count": 1,
   "id": "93690a10-64dd-463f-8f49-ae476156f47a",
   "metadata": {},
   "outputs": [],
   "source": [
    "# !pip install snorkel transformers datasets -q"
   ]
  },
  {
   "cell_type": "markdown",
   "id": "4c11d9fe-a2bb-4949-ab0f-b4f4fa8d740e",
   "metadata": {},
   "source": [
    "## Loading saved data"
   ]
  },
  {
   "cell_type": "code",
   "execution_count": 2,
   "id": "2b233952-255a-47e2-b9cd-8bdb7873ccec",
   "metadata": {},
   "outputs": [],
   "source": [
    "import glob\n",
    "import pandas as pd\n",
    "import numpy as np\n",
    "\n",
    "import datasets\n",
    "from datasets import concatenate_datasets, load_dataset, Dataset\n",
    "\n",
    "datasets.logging.set_verbosity_error()"
   ]
  },
  {
   "cell_type": "code",
   "execution_count": 3,
   "id": "72f58513-727d-4f70-8c8c-b5ec533cb94b",
   "metadata": {},
   "outputs": [],
   "source": [
    "zero_shot_models = [\"facebook/bart-large-mnli\", \n",
    "                    \"joeddav/xlm-roberta-large-xnli\", \n",
    "                    \"MoritzLaurer/mDeBERTa-v3-base-mnli-xnli\"] \n",
    "                    # \"BaptisteDoyen/camembert-base-xnli\"]"
   ]
  },
  {
   "cell_type": "code",
   "execution_count": 4,
   "id": "3eb22c8f-cf3f-496f-af7f-e94f6f24e026",
   "metadata": {},
   "outputs": [
    {
     "name": "stdout",
     "output_type": "stream",
     "text": [
      "Downloading and preparing dataset json/default to /root/.cache/huggingface/datasets/json/default-c83fb4cd57a82a57/0.0.0/a3e658c4731e59120d44081ac10bf85dc7e1388126b92338344ce9661907f253...\n"
     ]
    },
    {
     "data": {
      "application/vnd.jupyter.widget-view+json": {
       "model_id": "be31f9898a1d40a9af5db451aafe5b15",
       "version_major": 2,
       "version_minor": 0
      },
      "text/plain": [
       "Downloading data files:   0%|          | 0/1 [00:00<?, ?it/s]"
      ]
     },
     "metadata": {},
     "output_type": "display_data"
    },
    {
     "data": {
      "application/vnd.jupyter.widget-view+json": {
       "model_id": "043c8b9ff2f0435cbcb581fd7e8da0ef",
       "version_major": 2,
       "version_minor": 0
      },
      "text/plain": [
       "Extracting data files:   0%|          | 0/1 [00:00<?, ?it/s]"
      ]
     },
     "metadata": {},
     "output_type": "display_data"
    },
    {
     "data": {
      "application/vnd.jupyter.widget-view+json": {
       "model_id": "",
       "version_major": 2,
       "version_minor": 0
      },
      "text/plain": [
       "0 tables [00:00, ? tables/s]"
      ]
     },
     "metadata": {},
     "output_type": "display_data"
    },
    {
     "name": "stdout",
     "output_type": "stream",
     "text": [
      "Dataset json downloaded and prepared to /root/.cache/huggingface/datasets/json/default-c83fb4cd57a82a57/0.0.0/a3e658c4731e59120d44081ac10bf85dc7e1388126b92338344ce9661907f253. Subsequent calls will reuse this data.\n",
      "Downloading and preparing dataset json/default to /root/.cache/huggingface/datasets/json/default-75fb20e8657c5de6/0.0.0/a3e658c4731e59120d44081ac10bf85dc7e1388126b92338344ce9661907f253...\n"
     ]
    },
    {
     "data": {
      "application/vnd.jupyter.widget-view+json": {
       "model_id": "55f57015fe1c4a9a9cb0527d1e0d3e65",
       "version_major": 2,
       "version_minor": 0
      },
      "text/plain": [
       "Downloading data files:   0%|          | 0/1 [00:00<?, ?it/s]"
      ]
     },
     "metadata": {},
     "output_type": "display_data"
    },
    {
     "data": {
      "application/vnd.jupyter.widget-view+json": {
       "model_id": "51e7b96910c64387b37867e31870de69",
       "version_major": 2,
       "version_minor": 0
      },
      "text/plain": [
       "Extracting data files:   0%|          | 0/1 [00:00<?, ?it/s]"
      ]
     },
     "metadata": {},
     "output_type": "display_data"
    },
    {
     "data": {
      "application/vnd.jupyter.widget-view+json": {
       "model_id": "",
       "version_major": 2,
       "version_minor": 0
      },
      "text/plain": [
       "0 tables [00:00, ? tables/s]"
      ]
     },
     "metadata": {},
     "output_type": "display_data"
    },
    {
     "name": "stdout",
     "output_type": "stream",
     "text": [
      "Dataset json downloaded and prepared to /root/.cache/huggingface/datasets/json/default-75fb20e8657c5de6/0.0.0/a3e658c4731e59120d44081ac10bf85dc7e1388126b92338344ce9661907f253. Subsequent calls will reuse this data.\n",
      "Downloading and preparing dataset json/default to /root/.cache/huggingface/datasets/json/default-a02a1540b531ea93/0.0.0/a3e658c4731e59120d44081ac10bf85dc7e1388126b92338344ce9661907f253...\n"
     ]
    },
    {
     "data": {
      "application/vnd.jupyter.widget-view+json": {
       "model_id": "542c9267dd6444af899b32d9ea7b6708",
       "version_major": 2,
       "version_minor": 0
      },
      "text/plain": [
       "Downloading data files:   0%|          | 0/1 [00:00<?, ?it/s]"
      ]
     },
     "metadata": {},
     "output_type": "display_data"
    },
    {
     "data": {
      "application/vnd.jupyter.widget-view+json": {
       "model_id": "389c10e72af64ea1a60ade18a65c35bd",
       "version_major": 2,
       "version_minor": 0
      },
      "text/plain": [
       "Extracting data files:   0%|          | 0/1 [00:00<?, ?it/s]"
      ]
     },
     "metadata": {},
     "output_type": "display_data"
    },
    {
     "data": {
      "application/vnd.jupyter.widget-view+json": {
       "model_id": "",
       "version_major": 2,
       "version_minor": 0
      },
      "text/plain": [
       "0 tables [00:00, ? tables/s]"
      ]
     },
     "metadata": {},
     "output_type": "display_data"
    },
    {
     "name": "stdout",
     "output_type": "stream",
     "text": [
      "Dataset json downloaded and prepared to /root/.cache/huggingface/datasets/json/default-a02a1540b531ea93/0.0.0/a3e658c4731e59120d44081ac10bf85dc7e1388126b92338344ce9661907f253. Subsequent calls will reuse this data.\n",
      "Downloading and preparing dataset json/default to /root/.cache/huggingface/datasets/json/default-5532053e7fda0d26/0.0.0/a3e658c4731e59120d44081ac10bf85dc7e1388126b92338344ce9661907f253...\n"
     ]
    },
    {
     "data": {
      "application/vnd.jupyter.widget-view+json": {
       "model_id": "7a2037d2e8fc4019b274a41fc66bcceb",
       "version_major": 2,
       "version_minor": 0
      },
      "text/plain": [
       "Downloading data files:   0%|          | 0/1 [00:00<?, ?it/s]"
      ]
     },
     "metadata": {},
     "output_type": "display_data"
    },
    {
     "data": {
      "application/vnd.jupyter.widget-view+json": {
       "model_id": "49db57bb2f1d4a20bdb8356412d4b628",
       "version_major": 2,
       "version_minor": 0
      },
      "text/plain": [
       "Extracting data files:   0%|          | 0/1 [00:00<?, ?it/s]"
      ]
     },
     "metadata": {},
     "output_type": "display_data"
    },
    {
     "data": {
      "application/vnd.jupyter.widget-view+json": {
       "model_id": "",
       "version_major": 2,
       "version_minor": 0
      },
      "text/plain": [
       "0 tables [00:00, ? tables/s]"
      ]
     },
     "metadata": {},
     "output_type": "display_data"
    },
    {
     "name": "stdout",
     "output_type": "stream",
     "text": [
      "Dataset json downloaded and prepared to /root/.cache/huggingface/datasets/json/default-5532053e7fda0d26/0.0.0/a3e658c4731e59120d44081ac10bf85dc7e1388126b92338344ce9661907f253. Subsequent calls will reuse this data.\n",
      "Downloading and preparing dataset json/default to /root/.cache/huggingface/datasets/json/default-120494a2b1882b8c/0.0.0/a3e658c4731e59120d44081ac10bf85dc7e1388126b92338344ce9661907f253...\n"
     ]
    },
    {
     "data": {
      "application/vnd.jupyter.widget-view+json": {
       "model_id": "abf0d4e28bd04e7dbcf3c41ff2d1a397",
       "version_major": 2,
       "version_minor": 0
      },
      "text/plain": [
       "Downloading data files:   0%|          | 0/1 [00:00<?, ?it/s]"
      ]
     },
     "metadata": {},
     "output_type": "display_data"
    },
    {
     "data": {
      "application/vnd.jupyter.widget-view+json": {
       "model_id": "8c1f857d865141f28a17a9424d481eb9",
       "version_major": 2,
       "version_minor": 0
      },
      "text/plain": [
       "Extracting data files:   0%|          | 0/1 [00:00<?, ?it/s]"
      ]
     },
     "metadata": {},
     "output_type": "display_data"
    },
    {
     "data": {
      "application/vnd.jupyter.widget-view+json": {
       "model_id": "",
       "version_major": 2,
       "version_minor": 0
      },
      "text/plain": [
       "0 tables [00:00, ? tables/s]"
      ]
     },
     "metadata": {},
     "output_type": "display_data"
    },
    {
     "name": "stdout",
     "output_type": "stream",
     "text": [
      "Dataset json downloaded and prepared to /root/.cache/huggingface/datasets/json/default-120494a2b1882b8c/0.0.0/a3e658c4731e59120d44081ac10bf85dc7e1388126b92338344ce9661907f253. Subsequent calls will reuse this data.\n",
      "Downloading and preparing dataset json/default to /root/.cache/huggingface/datasets/json/default-8ad9280891ccde40/0.0.0/a3e658c4731e59120d44081ac10bf85dc7e1388126b92338344ce9661907f253...\n"
     ]
    },
    {
     "data": {
      "application/vnd.jupyter.widget-view+json": {
       "model_id": "9aa451c5309b441195b4a2a847a9e076",
       "version_major": 2,
       "version_minor": 0
      },
      "text/plain": [
       "Downloading data files:   0%|          | 0/1 [00:00<?, ?it/s]"
      ]
     },
     "metadata": {},
     "output_type": "display_data"
    },
    {
     "data": {
      "application/vnd.jupyter.widget-view+json": {
       "model_id": "9155994074de4485aefb910ded762150",
       "version_major": 2,
       "version_minor": 0
      },
      "text/plain": [
       "Extracting data files:   0%|          | 0/1 [00:00<?, ?it/s]"
      ]
     },
     "metadata": {},
     "output_type": "display_data"
    },
    {
     "data": {
      "application/vnd.jupyter.widget-view+json": {
       "model_id": "",
       "version_major": 2,
       "version_minor": 0
      },
      "text/plain": [
       "0 tables [00:00, ? tables/s]"
      ]
     },
     "metadata": {},
     "output_type": "display_data"
    },
    {
     "name": "stdout",
     "output_type": "stream",
     "text": [
      "Dataset json downloaded and prepared to /root/.cache/huggingface/datasets/json/default-8ad9280891ccde40/0.0.0/a3e658c4731e59120d44081ac10bf85dc7e1388126b92338344ce9661907f253. Subsequent calls will reuse this data.\n"
     ]
    }
   ],
   "source": [
    "train_dfs = []\n",
    "valid_dfs = []\n",
    "for model in zero_shot_models:\n",
    "\n",
    "    train_dfs.append(load_dataset('json', \n",
    "                                  data_files=f'imdb_data/'\n",
    "                                  f'{model}/train.json', \n",
    "                                  split='train').to_pandas())\n",
    "    valid_dfs.append(load_dataset('json', \n",
    "                                  data_files=f'imdb_data/'\n",
    "                                  f'{model}/test.json', \n",
    "                                  split='train').to_pandas())"
   ]
  },
  {
   "cell_type": "code",
   "execution_count": 5,
   "id": "809c3fac-ac34-4be7-be79-247e6eee0661",
   "metadata": {},
   "outputs": [],
   "source": [
    "train_ds = train_dfs[0].copy()\n",
    "\n",
    "for df in train_dfs[1:]:\n",
    "    train_ds = train_ds.merge(right=df, on=['text', 'label'])\n",
    "\n",
    "valid_ds = valid_dfs[0].copy()\n",
    "\n",
    "for df in valid_dfs[1:]:\n",
    "    valid_ds = valid_ds.merge(right=df, on=['text', 'label'])"
   ]
  },
  {
   "cell_type": "code",
   "execution_count": 6,
   "id": "fc6a19b6-a894-4fdc-be58-72ff77aa85bd",
   "metadata": {},
   "outputs": [
    {
     "data": {
      "text/html": [
       "<div>\n",
       "<style scoped>\n",
       "    .dataframe tbody tr th:only-of-type {\n",
       "        vertical-align: middle;\n",
       "    }\n",
       "\n",
       "    .dataframe tbody tr th {\n",
       "        vertical-align: top;\n",
       "    }\n",
       "\n",
       "    .dataframe thead th {\n",
       "        text-align: right;\n",
       "    }\n",
       "</style>\n",
       "<table border=\"1\" class=\"dataframe\">\n",
       "  <thead>\n",
       "    <tr style=\"text-align: right;\">\n",
       "      <th></th>\n",
       "      <th>text</th>\n",
       "      <th>label</th>\n",
       "      <th>facebook/bart-large-mnli</th>\n",
       "      <th>joeddav/xlm-roberta-large-xnli</th>\n",
       "      <th>MoritzLaurer/mDeBERTa-v3-base-mnli-xnli</th>\n",
       "    </tr>\n",
       "  </thead>\n",
       "  <tbody>\n",
       "    <tr>\n",
       "      <th>0</th>\n",
       "      <td>There is no relation at all between Fortier an...</td>\n",
       "      <td>1</td>\n",
       "      <td>1</td>\n",
       "      <td>1</td>\n",
       "      <td>1</td>\n",
       "    </tr>\n",
       "    <tr>\n",
       "      <th>1</th>\n",
       "      <td>This movie is a great. The plot is very true t...</td>\n",
       "      <td>1</td>\n",
       "      <td>1</td>\n",
       "      <td>1</td>\n",
       "      <td>1</td>\n",
       "    </tr>\n",
       "    <tr>\n",
       "      <th>2</th>\n",
       "      <td>George P. Cosmatos' \"Rambo: First Blood Part I...</td>\n",
       "      <td>0</td>\n",
       "      <td>1</td>\n",
       "      <td>1</td>\n",
       "      <td>1</td>\n",
       "    </tr>\n",
       "    <tr>\n",
       "      <th>3</th>\n",
       "      <td>In the process of trying to establish the audi...</td>\n",
       "      <td>1</td>\n",
       "      <td>1</td>\n",
       "      <td>1</td>\n",
       "      <td>0</td>\n",
       "    </tr>\n",
       "    <tr>\n",
       "      <th>4</th>\n",
       "      <td>Yeh, I know -- you're quivering with excitemen...</td>\n",
       "      <td>0</td>\n",
       "      <td>1</td>\n",
       "      <td>1</td>\n",
       "      <td>0</td>\n",
       "    </tr>\n",
       "  </tbody>\n",
       "</table>\n",
       "</div>"
      ],
      "text/plain": [
       "                                                text  label  \\\n",
       "0  There is no relation at all between Fortier an...      1   \n",
       "1  This movie is a great. The plot is very true t...      1   \n",
       "2  George P. Cosmatos' \"Rambo: First Blood Part I...      0   \n",
       "3  In the process of trying to establish the audi...      1   \n",
       "4  Yeh, I know -- you're quivering with excitemen...      0   \n",
       "\n",
       "   facebook/bart-large-mnli  joeddav/xlm-roberta-large-xnli  \\\n",
       "0                         1                               1   \n",
       "1                         1                               1   \n",
       "2                         1                               1   \n",
       "3                         1                               1   \n",
       "4                         1                               1   \n",
       "\n",
       "   MoritzLaurer/mDeBERTa-v3-base-mnli-xnli  \n",
       "0                                        1  \n",
       "1                                        1  \n",
       "2                                        1  \n",
       "3                                        0  \n",
       "4                                        0  "
      ]
     },
     "execution_count": 6,
     "metadata": {},
     "output_type": "execute_result"
    }
   ],
   "source": [
    "train_ds.head()"
   ]
  },
  {
   "cell_type": "code",
   "execution_count": 7,
   "id": "29a65d26-539d-4bce-9a5b-1947ae0d7f52",
   "metadata": {},
   "outputs": [
    {
     "name": "stdout",
     "output_type": "stream",
     "text": [
      "<class 'pandas.core.frame.DataFrame'>\n",
      "Int64Index: 25624 entries, 0 to 25623\n",
      "Data columns (total 5 columns):\n",
      " #   Column                                   Non-Null Count  Dtype \n",
      "---  ------                                   --------------  ----- \n",
      " 0   text                                     25624 non-null  object\n",
      " 1   label                                    25624 non-null  int64 \n",
      " 2   facebook/bart-large-mnli                 25624 non-null  int64 \n",
      " 3   joeddav/xlm-roberta-large-xnli           25624 non-null  int64 \n",
      " 4   MoritzLaurer/mDeBERTa-v3-base-mnli-xnli  25624 non-null  int64 \n",
      "dtypes: int64(4), object(1)\n",
      "memory usage: 1.2+ MB\n"
     ]
    }
   ],
   "source": [
    "train_ds.info()"
   ]
  },
  {
   "cell_type": "code",
   "execution_count": 8,
   "id": "c4745798-2d85-4a02-9887-47cfe92e0349",
   "metadata": {},
   "outputs": [
    {
     "data": {
      "text/html": [
       "<div>\n",
       "<style scoped>\n",
       "    .dataframe tbody tr th:only-of-type {\n",
       "        vertical-align: middle;\n",
       "    }\n",
       "\n",
       "    .dataframe tbody tr th {\n",
       "        vertical-align: top;\n",
       "    }\n",
       "\n",
       "    .dataframe thead th {\n",
       "        text-align: right;\n",
       "    }\n",
       "</style>\n",
       "<table border=\"1\" class=\"dataframe\">\n",
       "  <thead>\n",
       "    <tr style=\"text-align: right;\">\n",
       "      <th></th>\n",
       "      <th>text</th>\n",
       "      <th>label</th>\n",
       "      <th>facebook/bart-large-mnli</th>\n",
       "      <th>joeddav/xlm-roberta-large-xnli</th>\n",
       "      <th>MoritzLaurer/mDeBERTa-v3-base-mnli-xnli</th>\n",
       "    </tr>\n",
       "  </thead>\n",
       "  <tbody>\n",
       "    <tr>\n",
       "      <th>0</th>\n",
       "      <td>&lt;br /&gt;&lt;br /&gt;When I unsuspectedly rented A Thou...</td>\n",
       "      <td>1</td>\n",
       "      <td>1</td>\n",
       "      <td>1</td>\n",
       "      <td>0</td>\n",
       "    </tr>\n",
       "    <tr>\n",
       "      <th>1</th>\n",
       "      <td>This is the latest entry in the long series of...</td>\n",
       "      <td>1</td>\n",
       "      <td>1</td>\n",
       "      <td>1</td>\n",
       "      <td>0</td>\n",
       "    </tr>\n",
       "    <tr>\n",
       "      <th>2</th>\n",
       "      <td>This movie was so frustrating. Everything seem...</td>\n",
       "      <td>0</td>\n",
       "      <td>1</td>\n",
       "      <td>1</td>\n",
       "      <td>0</td>\n",
       "    </tr>\n",
       "    <tr>\n",
       "      <th>3</th>\n",
       "      <td>I was truly and wonderfully surprised at \"O' B...</td>\n",
       "      <td>1</td>\n",
       "      <td>1</td>\n",
       "      <td>1</td>\n",
       "      <td>1</td>\n",
       "    </tr>\n",
       "    <tr>\n",
       "      <th>4</th>\n",
       "      <td>This movie spends most of its time preaching t...</td>\n",
       "      <td>0</td>\n",
       "      <td>1</td>\n",
       "      <td>1</td>\n",
       "      <td>0</td>\n",
       "    </tr>\n",
       "  </tbody>\n",
       "</table>\n",
       "</div>"
      ],
      "text/plain": [
       "                                                text  label  \\\n",
       "0  <br /><br />When I unsuspectedly rented A Thou...      1   \n",
       "1  This is the latest entry in the long series of...      1   \n",
       "2  This movie was so frustrating. Everything seem...      0   \n",
       "3  I was truly and wonderfully surprised at \"O' B...      1   \n",
       "4  This movie spends most of its time preaching t...      0   \n",
       "\n",
       "   facebook/bart-large-mnli  joeddav/xlm-roberta-large-xnli  \\\n",
       "0                         1                               1   \n",
       "1                         1                               1   \n",
       "2                         1                               1   \n",
       "3                         1                               1   \n",
       "4                         1                               1   \n",
       "\n",
       "   MoritzLaurer/mDeBERTa-v3-base-mnli-xnli  \n",
       "0                                        0  \n",
       "1                                        0  \n",
       "2                                        0  \n",
       "3                                        1  \n",
       "4                                        0  "
      ]
     },
     "execution_count": 8,
     "metadata": {},
     "output_type": "execute_result"
    }
   ],
   "source": [
    "valid_ds.head()"
   ]
  },
  {
   "cell_type": "code",
   "execution_count": 9,
   "id": "dea7274d-ffff-4ea4-baa7-9fdd0c1d62f5",
   "metadata": {},
   "outputs": [
    {
     "name": "stdout",
     "output_type": "stream",
     "text": [
      "<class 'pandas.core.frame.DataFrame'>\n",
      "Int64Index: 26368 entries, 0 to 26367\n",
      "Data columns (total 5 columns):\n",
      " #   Column                                   Non-Null Count  Dtype \n",
      "---  ------                                   --------------  ----- \n",
      " 0   text                                     26368 non-null  object\n",
      " 1   label                                    26368 non-null  int64 \n",
      " 2   facebook/bart-large-mnli                 26368 non-null  int64 \n",
      " 3   joeddav/xlm-roberta-large-xnli           26368 non-null  int64 \n",
      " 4   MoritzLaurer/mDeBERTa-v3-base-mnli-xnli  26368 non-null  int64 \n",
      "dtypes: int64(4), object(1)\n",
      "memory usage: 1.2+ MB\n"
     ]
    }
   ],
   "source": [
    "valid_ds.info()"
   ]
  },
  {
   "cell_type": "markdown",
   "id": "9dca43ba-2e98-4f8f-aa18-eba149ddc942",
   "metadata": {},
   "source": [
    "## Analysis"
   ]
  },
  {
   "cell_type": "code",
   "execution_count": 10,
   "id": "9f335f04-0a07-47a0-9e43-f0bd2971f00b",
   "metadata": {},
   "outputs": [],
   "source": [
    "L_train = train_ds[zero_shot_models].to_numpy()\n",
    "L_valid = valid_ds[zero_shot_models].to_numpy()"
   ]
  },
  {
   "cell_type": "code",
   "execution_count": 11,
   "id": "9cf5e093",
   "metadata": {},
   "outputs": [],
   "source": [
    "from snorkel.labeling import LFAnalysis\n",
    "from snorkel.labeling.model import LabelModel\n",
    "from snorkel.labeling import labeling_function"
   ]
  },
  {
   "cell_type": "code",
   "execution_count": 12,
   "id": "8318f895",
   "metadata": {},
   "outputs": [],
   "source": [
    "@labeling_function()\n",
    "def bart_large():\n",
    "    pass\n",
    "\n",
    "@labeling_function()\n",
    "def xlm_roberta():\n",
    "    pass\n",
    "\n",
    "@labeling_function()\n",
    "def mdeberta():\n",
    "    pass\n",
    "\n",
    "# @labeling_function()\n",
    "# def camembert():\n",
    "#     pass"
   ]
  },
  {
   "cell_type": "code",
   "execution_count": 13,
   "id": "1fe86a22",
   "metadata": {},
   "outputs": [
    {
     "data": {
      "text/html": [
       "<div>\n",
       "<style scoped>\n",
       "    .dataframe tbody tr th:only-of-type {\n",
       "        vertical-align: middle;\n",
       "    }\n",
       "\n",
       "    .dataframe tbody tr th {\n",
       "        vertical-align: top;\n",
       "    }\n",
       "\n",
       "    .dataframe thead th {\n",
       "        text-align: right;\n",
       "    }\n",
       "</style>\n",
       "<table border=\"1\" class=\"dataframe\">\n",
       "  <thead>\n",
       "    <tr style=\"text-align: right;\">\n",
       "      <th></th>\n",
       "      <th>j</th>\n",
       "      <th>Polarity</th>\n",
       "      <th>Coverage</th>\n",
       "      <th>Overlaps</th>\n",
       "      <th>Conflicts</th>\n",
       "    </tr>\n",
       "  </thead>\n",
       "  <tbody>\n",
       "    <tr>\n",
       "      <th>bart_large</th>\n",
       "      <td>0</td>\n",
       "      <td>[0, 1]</td>\n",
       "      <td>1.0</td>\n",
       "      <td>1.0</td>\n",
       "      <td>0.688885</td>\n",
       "    </tr>\n",
       "    <tr>\n",
       "      <th>xlm_roberta</th>\n",
       "      <td>1</td>\n",
       "      <td>[0, 1]</td>\n",
       "      <td>1.0</td>\n",
       "      <td>1.0</td>\n",
       "      <td>0.688885</td>\n",
       "    </tr>\n",
       "    <tr>\n",
       "      <th>mdeberta</th>\n",
       "      <td>2</td>\n",
       "      <td>[0, 1]</td>\n",
       "      <td>1.0</td>\n",
       "      <td>1.0</td>\n",
       "      <td>0.688885</td>\n",
       "    </tr>\n",
       "  </tbody>\n",
       "</table>\n",
       "</div>"
      ],
      "text/plain": [
       "             j Polarity  Coverage  Overlaps  Conflicts\n",
       "bart_large   0   [0, 1]       1.0       1.0   0.688885\n",
       "xlm_roberta  1   [0, 1]       1.0       1.0   0.688885\n",
       "mdeberta     2   [0, 1]       1.0       1.0   0.688885"
      ]
     },
     "execution_count": 13,
     "metadata": {},
     "output_type": "execute_result"
    }
   ],
   "source": [
    "lfs = [bart_large, xlm_roberta, mdeberta]\n",
    "\n",
    "LFAnalysis(L_train, lfs=lfs).lf_summary()"
   ]
  },
  {
   "cell_type": "code",
   "execution_count": 14,
   "id": "cd288a69",
   "metadata": {},
   "outputs": [
    {
     "data": {
      "text/html": [
       "<div>\n",
       "<style scoped>\n",
       "    .dataframe tbody tr th:only-of-type {\n",
       "        vertical-align: middle;\n",
       "    }\n",
       "\n",
       "    .dataframe tbody tr th {\n",
       "        vertical-align: top;\n",
       "    }\n",
       "\n",
       "    .dataframe thead th {\n",
       "        text-align: right;\n",
       "    }\n",
       "</style>\n",
       "<table border=\"1\" class=\"dataframe\">\n",
       "  <thead>\n",
       "    <tr style=\"text-align: right;\">\n",
       "      <th></th>\n",
       "      <th>j</th>\n",
       "      <th>Polarity</th>\n",
       "      <th>Coverage</th>\n",
       "      <th>Overlaps</th>\n",
       "      <th>Conflicts</th>\n",
       "      <th>Correct</th>\n",
       "      <th>Incorrect</th>\n",
       "      <th>Emp. Acc.</th>\n",
       "    </tr>\n",
       "  </thead>\n",
       "  <tbody>\n",
       "    <tr>\n",
       "      <th>bart_large</th>\n",
       "      <td>0</td>\n",
       "      <td>[0, 1]</td>\n",
       "      <td>1.0</td>\n",
       "      <td>1.0</td>\n",
       "      <td>0.67745</td>\n",
       "      <td>16243</td>\n",
       "      <td>10125</td>\n",
       "      <td>0.616012</td>\n",
       "    </tr>\n",
       "    <tr>\n",
       "      <th>xlm_roberta</th>\n",
       "      <td>1</td>\n",
       "      <td>[0, 1]</td>\n",
       "      <td>1.0</td>\n",
       "      <td>1.0</td>\n",
       "      <td>0.67745</td>\n",
       "      <td>15485</td>\n",
       "      <td>10883</td>\n",
       "      <td>0.587265</td>\n",
       "    </tr>\n",
       "    <tr>\n",
       "      <th>mdeberta</th>\n",
       "      <td>2</td>\n",
       "      <td>[0, 1]</td>\n",
       "      <td>1.0</td>\n",
       "      <td>1.0</td>\n",
       "      <td>0.67745</td>\n",
       "      <td>19204</td>\n",
       "      <td>7164</td>\n",
       "      <td>0.728307</td>\n",
       "    </tr>\n",
       "  </tbody>\n",
       "</table>\n",
       "</div>"
      ],
      "text/plain": [
       "             j Polarity  Coverage  Overlaps  Conflicts  Correct  Incorrect  \\\n",
       "bart_large   0   [0, 1]       1.0       1.0    0.67745    16243      10125   \n",
       "xlm_roberta  1   [0, 1]       1.0       1.0    0.67745    15485      10883   \n",
       "mdeberta     2   [0, 1]       1.0       1.0    0.67745    19204       7164   \n",
       "\n",
       "             Emp. Acc.  \n",
       "bart_large    0.616012  \n",
       "xlm_roberta   0.587265  \n",
       "mdeberta      0.728307  "
      ]
     },
     "execution_count": 14,
     "metadata": {},
     "output_type": "execute_result"
    }
   ],
   "source": [
    "LFAnalysis(L_valid, lfs=lfs).lf_summary(valid_ds.label.values)"
   ]
  },
  {
   "cell_type": "markdown",
   "id": "df5c94d5",
   "metadata": {},
   "source": [
    "## Label Model"
   ]
  },
  {
   "cell_type": "code",
   "execution_count": 15,
   "id": "c905de34-d105-4692-8757-a52d29f35c15",
   "metadata": {},
   "outputs": [
    {
     "name": "stderr",
     "output_type": "stream",
     "text": [
      "INFO:root:Computing O...\n",
      "INFO:root:Estimating \\mu...\n",
      "  0%|          | 0/500 [00:00<?, ?epoch/s]INFO:root:[0 epochs]: TRAIN:[loss=3.556]\n",
      " 19%|█▉        | 94/500 [00:00<00:00, 937.33epoch/s]INFO:root:[100 epochs]: TRAIN:[loss=0.002]\n",
      "INFO:root:[200 epochs]: TRAIN:[loss=0.000]\n",
      "INFO:root:[300 epochs]: TRAIN:[loss=0.000]\n",
      " 66%|██████▋   | 332/500 [00:00<00:00, 1780.42epoch/s]INFO:root:[400 epochs]: TRAIN:[loss=0.000]\n",
      "100%|██████████| 500/500 [00:00<00:00, 1851.48epoch/s]\n",
      "INFO:root:Finished Training\n"
     ]
    }
   ],
   "source": [
    "label_model = LabelModel(cardinality=2, verbose=True).to('cuda')\n",
    "label_model.fit(L_train=L_train, n_epochs=500, log_freq=100, seed=42)"
   ]
  },
  {
   "cell_type": "code",
   "execution_count": 16,
   "id": "e22e948d-feb9-4f91-8f89-422ab9f22bb8",
   "metadata": {},
   "outputs": [],
   "source": [
    "valid_gold = valid_ds.label.to_numpy()"
   ]
  },
  {
   "cell_type": "code",
   "execution_count": 17,
   "id": "9cd3443d-272f-4c5e-867d-8f69084298c4",
   "metadata": {},
   "outputs": [
    {
     "name": "stderr",
     "output_type": "stream",
     "text": [
      "WARNING:root:Metrics calculated over data points with non-abstain labels only\n"
     ]
    },
    {
     "data": {
      "text/plain": [
       "{'accuracy': 0.6753640776699029}"
      ]
     },
     "execution_count": 17,
     "metadata": {},
     "output_type": "execute_result"
    }
   ],
   "source": [
    "label_model.score(L_valid, valid_gold)"
   ]
  },
  {
   "cell_type": "code",
   "execution_count": 18,
   "id": "b5c71249-3789-417b-a37f-3c3890cf6c96",
   "metadata": {},
   "outputs": [],
   "source": [
    "train_ds['weak_labels'] = label_model.predict(L_train)\n",
    "valid_ds['weak_labels'] = label_model.predict(L_valid)"
   ]
  },
  {
   "cell_type": "code",
   "execution_count": 19,
   "id": "07527244",
   "metadata": {},
   "outputs": [
    {
     "data": {
      "text/plain": [
       "1    18673\n",
       "0     6951\n",
       "Name: weak_labels, dtype: int64"
      ]
     },
     "execution_count": 19,
     "metadata": {},
     "output_type": "execute_result"
    }
   ],
   "source": [
    "train_ds.weak_labels.value_counts()"
   ]
  },
  {
   "cell_type": "code",
   "execution_count": 20,
   "id": "ef31b56a",
   "metadata": {},
   "outputs": [
    {
     "data": {
      "text/plain": [
       "1    19278\n",
       "0     7090\n",
       "Name: weak_labels, dtype: int64"
      ]
     },
     "execution_count": 20,
     "metadata": {},
     "output_type": "execute_result"
    }
   ],
   "source": [
    "valid_ds.weak_labels.value_counts()"
   ]
  },
  {
   "cell_type": "code",
   "execution_count": 21,
   "id": "64319531",
   "metadata": {},
   "outputs": [],
   "source": [
    "train_ds[['text', 'label', 'weak_labels']].to_json('./train.json')\n",
    "valid_ds[['text', 'label', 'weak_labels']].to_json('./valid.json')"
   ]
  }
 ],
 "metadata": {
  "kernelspec": {
   "display_name": "Python 3 (ipykernel)",
   "language": "python",
   "name": "python3"
  },
  "language_info": {
   "codemirror_mode": {
    "name": "ipython",
    "version": 3
   },
   "file_extension": ".py",
   "mimetype": "text/x-python",
   "name": "python",
   "nbconvert_exporter": "python",
   "pygments_lexer": "ipython3",
   "version": "3.9.16"
  }
 },
 "nbformat": 4,
 "nbformat_minor": 5
}
